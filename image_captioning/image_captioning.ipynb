{
  "nbformat": 4,
  "nbformat_minor": 0,
  "metadata": {
    "colab": {
      "provenance": [],
      "toc_visible": true,
      "gpuType": "T4",
      "authorship_tag": "ABX9TyMgteYl3Z59Kn3IOWqv7DCe",
      "include_colab_link": true
    },
    "kernelspec": {
      "name": "python3",
      "display_name": "Python 3"
    },
    "language_info": {
      "name": "python"
    },
    "accelerator": "GPU"
  },
  "cells": [
    {
      "cell_type": "markdown",
      "metadata": {
        "id": "view-in-github",
        "colab_type": "text"
      },
      "source": [
        "<a href=\"https://colab.research.google.com/github/won-hj/deep_learning_study/blob/main/image_captioning/image_captioning.ipynb\" target=\"_parent\"><img src=\"https://colab.research.google.com/assets/colab-badge.svg\" alt=\"Open In Colab\"/></a>"
      ]
    },
    {
      "cell_type": "markdown",
      "source": [
        "##### Copyright 2018 The TensorFlow Authors.\n"
      ],
      "metadata": {
        "id": "Zh_8aHvRkmJt"
      }
    },
    {
      "cell_type": "code",
      "execution_count": null,
      "metadata": {
        "cellView": "form",
        "id": "ig64b5nOoize"
      },
      "outputs": [],
      "source": [
        "#@title Licensed under the Apache License, Version 2.0 (the \"License\");\n",
        "# you may not use this file except in compliance with the License.\n",
        "# You may obtain a copy of the License at\n",
        "#\n",
        "# https://www.apache.org/licenses/LICENSE-2.0\n",
        "#\n",
        "# Unless required by applicable law or agreed to in writing, software\n",
        "# distributed under the License is distributed on an \"AS IS\" BASIS,\n",
        "# WITHOUT WARRANTIES OR CONDITIONS OF ANY KIND, either express or implied.\n",
        "# See the License for the specific language governing permissions and\n",
        "# limitations under the License."
      ]
    },
    {
      "cell_type": "markdown",
      "source": [
        "# 설치"
      ],
      "metadata": {
        "id": "7kj4cHGN1_2k"
      }
    },
    {
      "cell_type": "code",
      "source": [
        "!pip install --allow-change-held-packages libcudnn8=8.1.0.77-1+cuda11.2"
      ],
      "metadata": {
        "id": "ByYiScgIolKU",
        "outputId": "a9f0a772-f94f-4e97-d075-4bc99586a28c",
        "colab": {
          "base_uri": "https://localhost:8080/"
        }
      },
      "execution_count": 1,
      "outputs": [
        {
          "output_type": "stream",
          "name": "stdout",
          "text": [
            "\n",
            "Usage:   \n",
            "  pip3 install [options] <requirement specifier> [package-index-options] ...\n",
            "  pip3 install [options] -r <requirements file> [package-index-options] ...\n",
            "  pip3 install [options] [-e] <vcs project url> ...\n",
            "  pip3 install [options] [-e] <local project path> ...\n",
            "  pip3 install [options] <archive url/path> ...\n",
            "\n",
            "no such option: --allow-change-held-packages\n"
          ]
        }
      ]
    },
    {
      "cell_type": "code",
      "source": [
        "!pip install -y tensorflow estimator keras"
      ],
      "metadata": {
        "id": "tkhYDWvT12dY",
        "outputId": "1d144746-0a7f-4188-e3a8-436c33576cae",
        "colab": {
          "base_uri": "https://localhost:8080/"
        }
      },
      "execution_count": 2,
      "outputs": [
        {
          "output_type": "stream",
          "name": "stdout",
          "text": [
            "\n",
            "Usage:   \n",
            "  pip3 install [options] <requirement specifier> [package-index-options] ...\n",
            "  pip3 install [options] -r <requirements file> [package-index-options] ...\n",
            "  pip3 install [options] [-e] <vcs project url> ...\n",
            "  pip3 install [options] [-e] <local project path> ...\n",
            "  pip3 install [options] <archive url/path> ...\n",
            "\n",
            "no such option: -y\n"
          ]
        }
      ]
    },
    {
      "cell_type": "code",
      "source": [
        "!pip install -U tensorflow_text tensorflow tensorflow_datasets"
      ],
      "metadata": {
        "id": "HYyJ1_L315h9",
        "outputId": "8104321d-b833-4067-f3f9-da2013e48c37",
        "colab": {
          "base_uri": "https://localhost:8080/"
        }
      },
      "execution_count": 3,
      "outputs": [
        {
          "output_type": "stream",
          "name": "stdout",
          "text": [
            "Requirement already satisfied: tensorflow_text in /usr/local/lib/python3.11/dist-packages (2.18.1)\n",
            "Requirement already satisfied: tensorflow in /usr/local/lib/python3.11/dist-packages (2.18.0)\n",
            "Requirement already satisfied: tensorflow_datasets in /usr/local/lib/python3.11/dist-packages (4.9.7)\n",
            "Requirement already satisfied: absl-py>=1.0.0 in /usr/local/lib/python3.11/dist-packages (from tensorflow) (1.4.0)\n",
            "Requirement already satisfied: astunparse>=1.6.0 in /usr/local/lib/python3.11/dist-packages (from tensorflow) (1.6.3)\n",
            "Requirement already satisfied: flatbuffers>=24.3.25 in /usr/local/lib/python3.11/dist-packages (from tensorflow) (25.2.10)\n",
            "Requirement already satisfied: gast!=0.5.0,!=0.5.1,!=0.5.2,>=0.2.1 in /usr/local/lib/python3.11/dist-packages (from tensorflow) (0.6.0)\n",
            "Requirement already satisfied: google-pasta>=0.1.1 in /usr/local/lib/python3.11/dist-packages (from tensorflow) (0.2.0)\n",
            "Requirement already satisfied: libclang>=13.0.0 in /usr/local/lib/python3.11/dist-packages (from tensorflow) (18.1.1)\n",
            "Requirement already satisfied: opt-einsum>=2.3.2 in /usr/local/lib/python3.11/dist-packages (from tensorflow) (3.4.0)\n",
            "Requirement already satisfied: packaging in /usr/local/lib/python3.11/dist-packages (from tensorflow) (24.2)\n",
            "Requirement already satisfied: protobuf!=4.21.0,!=4.21.1,!=4.21.2,!=4.21.3,!=4.21.4,!=4.21.5,<6.0.0dev,>=3.20.3 in /usr/local/lib/python3.11/dist-packages (from tensorflow) (4.25.6)\n",
            "Requirement already satisfied: requests<3,>=2.21.0 in /usr/local/lib/python3.11/dist-packages (from tensorflow) (2.32.3)\n",
            "Requirement already satisfied: setuptools in /usr/local/lib/python3.11/dist-packages (from tensorflow) (75.1.0)\n",
            "Requirement already satisfied: six>=1.12.0 in /usr/local/lib/python3.11/dist-packages (from tensorflow) (1.17.0)\n",
            "Requirement already satisfied: termcolor>=1.1.0 in /usr/local/lib/python3.11/dist-packages (from tensorflow) (2.5.0)\n",
            "Requirement already satisfied: typing-extensions>=3.6.6 in /usr/local/lib/python3.11/dist-packages (from tensorflow) (4.12.2)\n",
            "Requirement already satisfied: wrapt>=1.11.0 in /usr/local/lib/python3.11/dist-packages (from tensorflow) (1.17.2)\n",
            "Requirement already satisfied: grpcio<2.0,>=1.24.3 in /usr/local/lib/python3.11/dist-packages (from tensorflow) (1.70.0)\n",
            "Requirement already satisfied: tensorboard<2.19,>=2.18 in /usr/local/lib/python3.11/dist-packages (from tensorflow) (2.18.0)\n",
            "Requirement already satisfied: keras>=3.5.0 in /usr/local/lib/python3.11/dist-packages (from tensorflow) (3.8.0)\n",
            "Requirement already satisfied: numpy<2.1.0,>=1.26.0 in /usr/local/lib/python3.11/dist-packages (from tensorflow) (1.26.4)\n",
            "Requirement already satisfied: h5py>=3.11.0 in /usr/local/lib/python3.11/dist-packages (from tensorflow) (3.12.1)\n",
            "Requirement already satisfied: ml-dtypes<0.5.0,>=0.4.0 in /usr/local/lib/python3.11/dist-packages (from tensorflow) (0.4.1)\n",
            "Requirement already satisfied: tensorflow-io-gcs-filesystem>=0.23.1 in /usr/local/lib/python3.11/dist-packages (from tensorflow) (0.37.1)\n",
            "Requirement already satisfied: click in /usr/local/lib/python3.11/dist-packages (from tensorflow_datasets) (8.1.8)\n",
            "Requirement already satisfied: dm-tree in /usr/local/lib/python3.11/dist-packages (from tensorflow_datasets) (0.1.9)\n",
            "Requirement already satisfied: immutabledict in /usr/local/lib/python3.11/dist-packages (from tensorflow_datasets) (4.2.1)\n",
            "Requirement already satisfied: promise in /usr/local/lib/python3.11/dist-packages (from tensorflow_datasets) (2.3)\n",
            "Requirement already satisfied: psutil in /usr/local/lib/python3.11/dist-packages (from tensorflow_datasets) (5.9.5)\n",
            "Requirement already satisfied: pyarrow in /usr/local/lib/python3.11/dist-packages (from tensorflow_datasets) (17.0.0)\n",
            "Requirement already satisfied: simple-parsing in /usr/local/lib/python3.11/dist-packages (from tensorflow_datasets) (0.1.7)\n",
            "Requirement already satisfied: tensorflow-metadata in /usr/local/lib/python3.11/dist-packages (from tensorflow_datasets) (1.16.1)\n",
            "Requirement already satisfied: toml in /usr/local/lib/python3.11/dist-packages (from tensorflow_datasets) (0.10.2)\n",
            "Requirement already satisfied: tqdm in /usr/local/lib/python3.11/dist-packages (from tensorflow_datasets) (4.67.1)\n",
            "Requirement already satisfied: array-record>=0.5.0 in /usr/local/lib/python3.11/dist-packages (from tensorflow_datasets) (0.6.0)\n",
            "Requirement already satisfied: etils>=1.9.1 in /usr/local/lib/python3.11/dist-packages (from etils[edc,enp,epath,epy,etree]>=1.9.1; python_version >= \"3.11\"->tensorflow_datasets) (1.12.0)\n",
            "Requirement already satisfied: wheel<1.0,>=0.23.0 in /usr/local/lib/python3.11/dist-packages (from astunparse>=1.6.0->tensorflow) (0.45.1)\n",
            "Requirement already satisfied: fsspec in /usr/local/lib/python3.11/dist-packages (from etils[edc,enp,epath,epy,etree]>=1.9.1; python_version >= \"3.11\"->tensorflow_datasets) (2024.10.0)\n",
            "Requirement already satisfied: importlib_resources in /usr/local/lib/python3.11/dist-packages (from etils[edc,enp,epath,epy,etree]>=1.9.1; python_version >= \"3.11\"->tensorflow_datasets) (6.5.2)\n",
            "Requirement already satisfied: zipp in /usr/local/lib/python3.11/dist-packages (from etils[edc,enp,epath,epy,etree]>=1.9.1; python_version >= \"3.11\"->tensorflow_datasets) (3.21.0)\n",
            "Requirement already satisfied: rich in /usr/local/lib/python3.11/dist-packages (from keras>=3.5.0->tensorflow) (13.9.4)\n",
            "Requirement already satisfied: namex in /usr/local/lib/python3.11/dist-packages (from keras>=3.5.0->tensorflow) (0.0.8)\n",
            "Requirement already satisfied: optree in /usr/local/lib/python3.11/dist-packages (from keras>=3.5.0->tensorflow) (0.14.0)\n",
            "Requirement already satisfied: charset-normalizer<4,>=2 in /usr/local/lib/python3.11/dist-packages (from requests<3,>=2.21.0->tensorflow) (3.4.1)\n",
            "Requirement already satisfied: idna<4,>=2.5 in /usr/local/lib/python3.11/dist-packages (from requests<3,>=2.21.0->tensorflow) (3.10)\n",
            "Requirement already satisfied: urllib3<3,>=1.21.1 in /usr/local/lib/python3.11/dist-packages (from requests<3,>=2.21.0->tensorflow) (2.3.0)\n",
            "Requirement already satisfied: certifi>=2017.4.17 in /usr/local/lib/python3.11/dist-packages (from requests<3,>=2.21.0->tensorflow) (2025.1.31)\n",
            "Requirement already satisfied: markdown>=2.6.8 in /usr/local/lib/python3.11/dist-packages (from tensorboard<2.19,>=2.18->tensorflow) (3.7)\n",
            "Requirement already satisfied: tensorboard-data-server<0.8.0,>=0.7.0 in /usr/local/lib/python3.11/dist-packages (from tensorboard<2.19,>=2.18->tensorflow) (0.7.2)\n",
            "Requirement already satisfied: werkzeug>=1.0.1 in /usr/local/lib/python3.11/dist-packages (from tensorboard<2.19,>=2.18->tensorflow) (3.1.3)\n",
            "Requirement already satisfied: attrs>=18.2.0 in /usr/local/lib/python3.11/dist-packages (from dm-tree->tensorflow_datasets) (25.1.0)\n",
            "Requirement already satisfied: docstring-parser<1.0,>=0.15 in /usr/local/lib/python3.11/dist-packages (from simple-parsing->tensorflow_datasets) (0.16)\n",
            "Requirement already satisfied: googleapis-common-protos<2,>=1.56.4 in /usr/local/lib/python3.11/dist-packages (from tensorflow-metadata->tensorflow_datasets) (1.67.0)\n",
            "Requirement already satisfied: MarkupSafe>=2.1.1 in /usr/local/lib/python3.11/dist-packages (from werkzeug>=1.0.1->tensorboard<2.19,>=2.18->tensorflow) (3.0.2)\n",
            "Requirement already satisfied: markdown-it-py>=2.2.0 in /usr/local/lib/python3.11/dist-packages (from rich->keras>=3.5.0->tensorflow) (3.0.0)\n",
            "Requirement already satisfied: pygments<3.0.0,>=2.13.0 in /usr/local/lib/python3.11/dist-packages (from rich->keras>=3.5.0->tensorflow) (2.18.0)\n",
            "Requirement already satisfied: mdurl~=0.1 in /usr/local/lib/python3.11/dist-packages (from markdown-it-py>=2.2.0->rich->keras>=3.5.0->tensorflow) (0.1.2)\n"
          ]
        }
      ]
    },
    {
      "cell_type": "code",
      "source": [
        "!pip install einops"
      ],
      "metadata": {
        "id": "iMQZlwNS1-Ka",
        "outputId": "f8fbb737-56cf-4e70-f271-8c7543336d9d",
        "colab": {
          "base_uri": "https://localhost:8080/"
        }
      },
      "execution_count": 4,
      "outputs": [
        {
          "output_type": "stream",
          "name": "stdout",
          "text": [
            "Requirement already satisfied: einops in /usr/local/lib/python3.11/dist-packages (0.8.1)\n"
          ]
        }
      ]
    },
    {
      "cell_type": "code",
      "source": [
        "#통합\n",
        "!apt install --allow-change-held-packages libcudnn8=8.6.0.163-1+cuda11.8\n",
        "!pip uninstall -y tensorflow estimator keras\n",
        "!pip install -U tensorflow_text tensorflow tensorflow_datasets\n",
        "!pip install einops\n"
      ],
      "metadata": {
        "id": "HaXXFkZn-z9R",
        "outputId": "91c66835-c258-48cf-c829-a153ef4d0f8b",
        "colab": {
          "base_uri": "https://localhost:8080/"
        }
      },
      "execution_count": 1,
      "outputs": [
        {
          "output_type": "stream",
          "name": "stdout",
          "text": [
            "Reading package lists... Done\n",
            "Building dependency tree... Done\n",
            "Reading state information... Done\n",
            "The following NEW packages will be installed:\n",
            "  libcudnn8\n",
            "0 upgraded, 1 newly installed, 0 to remove and 21 not upgraded.\n",
            "Need to get 446 MB of archives.\n",
            "After this operation, 1,140 MB of additional disk space will be used.\n",
            "Get:1 https://developer.download.nvidia.com/compute/cuda/repos/ubuntu2204/x86_64  libcudnn8 8.6.0.163-1+cuda11.8 [446 MB]\n",
            "Fetched 446 MB in 16s (28.3 MB/s)\n",
            "Selecting previously unselected package libcudnn8.\n",
            "(Reading database ... 124926 files and directories currently installed.)\n",
            "Preparing to unpack .../libcudnn8_8.6.0.163-1+cuda11.8_amd64.deb ...\n",
            "Unpacking libcudnn8 (8.6.0.163-1+cuda11.8) ...\n",
            "Setting up libcudnn8 (8.6.0.163-1+cuda11.8) ...\n",
            "Found existing installation: tensorflow 2.18.0\n",
            "Uninstalling tensorflow-2.18.0:\n",
            "  Successfully uninstalled tensorflow-2.18.0\n",
            "\u001b[33mWARNING: Skipping estimator as it is not installed.\u001b[0m\u001b[33m\n",
            "\u001b[0mFound existing installation: keras 3.8.0\n",
            "Uninstalling keras-3.8.0:\n",
            "  Successfully uninstalled keras-3.8.0\n",
            "Requirement already satisfied: tensorflow_text in /usr/local/lib/python3.11/dist-packages (2.18.1)\n",
            "Collecting tensorflow\n",
            "  Downloading tensorflow-2.18.0-cp311-cp311-manylinux_2_17_x86_64.manylinux2014_x86_64.whl.metadata (4.1 kB)\n",
            "Requirement already satisfied: tensorflow_datasets in /usr/local/lib/python3.11/dist-packages (4.9.7)\n",
            "Requirement already satisfied: absl-py>=1.0.0 in /usr/local/lib/python3.11/dist-packages (from tensorflow) (1.4.0)\n",
            "Requirement already satisfied: astunparse>=1.6.0 in /usr/local/lib/python3.11/dist-packages (from tensorflow) (1.6.3)\n",
            "Requirement already satisfied: flatbuffers>=24.3.25 in /usr/local/lib/python3.11/dist-packages (from tensorflow) (25.2.10)\n",
            "Requirement already satisfied: gast!=0.5.0,!=0.5.1,!=0.5.2,>=0.2.1 in /usr/local/lib/python3.11/dist-packages (from tensorflow) (0.6.0)\n",
            "Requirement already satisfied: google-pasta>=0.1.1 in /usr/local/lib/python3.11/dist-packages (from tensorflow) (0.2.0)\n",
            "Requirement already satisfied: libclang>=13.0.0 in /usr/local/lib/python3.11/dist-packages (from tensorflow) (18.1.1)\n",
            "Requirement already satisfied: opt-einsum>=2.3.2 in /usr/local/lib/python3.11/dist-packages (from tensorflow) (3.4.0)\n",
            "Requirement already satisfied: packaging in /usr/local/lib/python3.11/dist-packages (from tensorflow) (24.2)\n",
            "Requirement already satisfied: protobuf!=4.21.0,!=4.21.1,!=4.21.2,!=4.21.3,!=4.21.4,!=4.21.5,<6.0.0dev,>=3.20.3 in /usr/local/lib/python3.11/dist-packages (from tensorflow) (4.25.6)\n",
            "Requirement already satisfied: requests<3,>=2.21.0 in /usr/local/lib/python3.11/dist-packages (from tensorflow) (2.32.3)\n",
            "Requirement already satisfied: setuptools in /usr/local/lib/python3.11/dist-packages (from tensorflow) (75.1.0)\n",
            "Requirement already satisfied: six>=1.12.0 in /usr/local/lib/python3.11/dist-packages (from tensorflow) (1.17.0)\n",
            "Requirement already satisfied: termcolor>=1.1.0 in /usr/local/lib/python3.11/dist-packages (from tensorflow) (2.5.0)\n",
            "Requirement already satisfied: typing-extensions>=3.6.6 in /usr/local/lib/python3.11/dist-packages (from tensorflow) (4.12.2)\n",
            "Requirement already satisfied: wrapt>=1.11.0 in /usr/local/lib/python3.11/dist-packages (from tensorflow) (1.17.2)\n",
            "Requirement already satisfied: grpcio<2.0,>=1.24.3 in /usr/local/lib/python3.11/dist-packages (from tensorflow) (1.70.0)\n",
            "Requirement already satisfied: tensorboard<2.19,>=2.18 in /usr/local/lib/python3.11/dist-packages (from tensorflow) (2.18.0)\n",
            "Collecting keras>=3.5.0 (from tensorflow)\n",
            "  Downloading keras-3.8.0-py3-none-any.whl.metadata (5.8 kB)\n",
            "Requirement already satisfied: numpy<2.1.0,>=1.26.0 in /usr/local/lib/python3.11/dist-packages (from tensorflow) (1.26.4)\n",
            "Requirement already satisfied: h5py>=3.11.0 in /usr/local/lib/python3.11/dist-packages (from tensorflow) (3.12.1)\n",
            "Requirement already satisfied: ml-dtypes<0.5.0,>=0.4.0 in /usr/local/lib/python3.11/dist-packages (from tensorflow) (0.4.1)\n",
            "Requirement already satisfied: tensorflow-io-gcs-filesystem>=0.23.1 in /usr/local/lib/python3.11/dist-packages (from tensorflow) (0.37.1)\n",
            "Requirement already satisfied: click in /usr/local/lib/python3.11/dist-packages (from tensorflow_datasets) (8.1.8)\n",
            "Requirement already satisfied: dm-tree in /usr/local/lib/python3.11/dist-packages (from tensorflow_datasets) (0.1.9)\n",
            "Requirement already satisfied: immutabledict in /usr/local/lib/python3.11/dist-packages (from tensorflow_datasets) (4.2.1)\n",
            "Requirement already satisfied: promise in /usr/local/lib/python3.11/dist-packages (from tensorflow_datasets) (2.3)\n",
            "Requirement already satisfied: psutil in /usr/local/lib/python3.11/dist-packages (from tensorflow_datasets) (5.9.5)\n",
            "Requirement already satisfied: pyarrow in /usr/local/lib/python3.11/dist-packages (from tensorflow_datasets) (17.0.0)\n",
            "Requirement already satisfied: simple-parsing in /usr/local/lib/python3.11/dist-packages (from tensorflow_datasets) (0.1.7)\n",
            "Requirement already satisfied: tensorflow-metadata in /usr/local/lib/python3.11/dist-packages (from tensorflow_datasets) (1.16.1)\n",
            "Requirement already satisfied: toml in /usr/local/lib/python3.11/dist-packages (from tensorflow_datasets) (0.10.2)\n",
            "Requirement already satisfied: tqdm in /usr/local/lib/python3.11/dist-packages (from tensorflow_datasets) (4.67.1)\n",
            "Requirement already satisfied: array-record>=0.5.0 in /usr/local/lib/python3.11/dist-packages (from tensorflow_datasets) (0.6.0)\n",
            "Requirement already satisfied: etils>=1.9.1 in /usr/local/lib/python3.11/dist-packages (from etils[edc,enp,epath,epy,etree]>=1.9.1; python_version >= \"3.11\"->tensorflow_datasets) (1.12.0)\n",
            "Requirement already satisfied: wheel<1.0,>=0.23.0 in /usr/local/lib/python3.11/dist-packages (from astunparse>=1.6.0->tensorflow) (0.45.1)\n",
            "Requirement already satisfied: fsspec in /usr/local/lib/python3.11/dist-packages (from etils[edc,enp,epath,epy,etree]>=1.9.1; python_version >= \"3.11\"->tensorflow_datasets) (2024.10.0)\n",
            "Requirement already satisfied: importlib_resources in /usr/local/lib/python3.11/dist-packages (from etils[edc,enp,epath,epy,etree]>=1.9.1; python_version >= \"3.11\"->tensorflow_datasets) (6.5.2)\n",
            "Requirement already satisfied: zipp in /usr/local/lib/python3.11/dist-packages (from etils[edc,enp,epath,epy,etree]>=1.9.1; python_version >= \"3.11\"->tensorflow_datasets) (3.21.0)\n",
            "Requirement already satisfied: rich in /usr/local/lib/python3.11/dist-packages (from keras>=3.5.0->tensorflow) (13.9.4)\n",
            "Requirement already satisfied: namex in /usr/local/lib/python3.11/dist-packages (from keras>=3.5.0->tensorflow) (0.0.8)\n",
            "Requirement already satisfied: optree in /usr/local/lib/python3.11/dist-packages (from keras>=3.5.0->tensorflow) (0.14.0)\n",
            "Requirement already satisfied: charset-normalizer<4,>=2 in /usr/local/lib/python3.11/dist-packages (from requests<3,>=2.21.0->tensorflow) (3.4.1)\n",
            "Requirement already satisfied: idna<4,>=2.5 in /usr/local/lib/python3.11/dist-packages (from requests<3,>=2.21.0->tensorflow) (3.10)\n",
            "Requirement already satisfied: urllib3<3,>=1.21.1 in /usr/local/lib/python3.11/dist-packages (from requests<3,>=2.21.0->tensorflow) (2.3.0)\n",
            "Requirement already satisfied: certifi>=2017.4.17 in /usr/local/lib/python3.11/dist-packages (from requests<3,>=2.21.0->tensorflow) (2025.1.31)\n",
            "Requirement already satisfied: markdown>=2.6.8 in /usr/local/lib/python3.11/dist-packages (from tensorboard<2.19,>=2.18->tensorflow) (3.7)\n",
            "Requirement already satisfied: tensorboard-data-server<0.8.0,>=0.7.0 in /usr/local/lib/python3.11/dist-packages (from tensorboard<2.19,>=2.18->tensorflow) (0.7.2)\n",
            "Requirement already satisfied: werkzeug>=1.0.1 in /usr/local/lib/python3.11/dist-packages (from tensorboard<2.19,>=2.18->tensorflow) (3.1.3)\n",
            "Requirement already satisfied: attrs>=18.2.0 in /usr/local/lib/python3.11/dist-packages (from dm-tree->tensorflow_datasets) (25.1.0)\n",
            "Requirement already satisfied: docstring-parser<1.0,>=0.15 in /usr/local/lib/python3.11/dist-packages (from simple-parsing->tensorflow_datasets) (0.16)\n",
            "Requirement already satisfied: googleapis-common-protos<2,>=1.56.4 in /usr/local/lib/python3.11/dist-packages (from tensorflow-metadata->tensorflow_datasets) (1.67.0)\n",
            "Requirement already satisfied: MarkupSafe>=2.1.1 in /usr/local/lib/python3.11/dist-packages (from werkzeug>=1.0.1->tensorboard<2.19,>=2.18->tensorflow) (3.0.2)\n",
            "Requirement already satisfied: markdown-it-py>=2.2.0 in /usr/local/lib/python3.11/dist-packages (from rich->keras>=3.5.0->tensorflow) (3.0.0)\n",
            "Requirement already satisfied: pygments<3.0.0,>=2.13.0 in /usr/local/lib/python3.11/dist-packages (from rich->keras>=3.5.0->tensorflow) (2.18.0)\n",
            "Requirement already satisfied: mdurl~=0.1 in /usr/local/lib/python3.11/dist-packages (from markdown-it-py>=2.2.0->rich->keras>=3.5.0->tensorflow) (0.1.2)\n",
            "Downloading tensorflow-2.18.0-cp311-cp311-manylinux_2_17_x86_64.manylinux2014_x86_64.whl (615.4 MB)\n",
            "\u001b[2K   \u001b[90m━━━━━━━━━━━━━━━━━━━━━━━━━━━━━━━━━━━━━━━━\u001b[0m \u001b[32m615.4/615.4 MB\u001b[0m \u001b[31m1.3 MB/s\u001b[0m eta \u001b[36m0:00:00\u001b[0m\n",
            "\u001b[?25hDownloading keras-3.8.0-py3-none-any.whl (1.3 MB)\n",
            "\u001b[2K   \u001b[90m━━━━━━━━━━━━━━━━━━━━━━━━━━━━━━━━━━━━━━━━\u001b[0m \u001b[32m1.3/1.3 MB\u001b[0m \u001b[31m62.0 MB/s\u001b[0m eta \u001b[36m0:00:00\u001b[0m\n",
            "\u001b[?25hInstalling collected packages: keras, tensorflow\n",
            "Successfully installed keras-3.8.0 tensorflow-2.18.0\n",
            "Requirement already satisfied: einops in /usr/local/lib/python3.11/dist-packages (0.8.1)\n"
          ]
        }
      ]
    },
    {
      "cell_type": "markdown",
      "source": [
        "# import"
      ],
      "metadata": {
        "id": "1B_gPex22Jb2"
      }
    },
    {
      "cell_type": "code",
      "source": [
        "#@title\n",
        "import concurrent.futures #\n",
        "import collections\n",
        "import dataclasses #\n",
        "import hashlib #\n",
        "import itertools #\n",
        "import json\n",
        "import math\n",
        "import os\n",
        "import pathlib\n",
        "import random\n",
        "import re\n",
        "import string\n",
        "import time\n",
        "import urllib.request\n",
        "\n",
        "import einops\n",
        "import matplotlib.pyplot as plt\n",
        "import numpy as np\n",
        "import pandas as pd\n",
        "from PIL import Image\n",
        "import requests\n",
        "import tqdm #\n",
        "\n",
        "import tensorflow as tf\n",
        "import tensorflow_hub as hub\n",
        "import tensorflow_text as text\n",
        "import tensorflow_datasets as tfds"
      ],
      "metadata": {
        "id": "502UK9wj2KgF"
      },
      "execution_count": 2,
      "outputs": []
    },
    {
      "cell_type": "markdown",
      "source": [
        "#[선택사항] 데이터처리\n",
        "\n"
      ],
      "metadata": {
        "id": "oa9ahUCJ2z9F"
      }
    },
    {
      "cell_type": "markdown",
      "source": [
        "## 데이터세트 선택\n",
        "Flickr8k 또는 Conceptual Captions 데이터세트의 작은 슬라이스 중 하나.\n",
        "처음부터 다운로드되고 변환되었지만 tensorflow datasets(coco captions 및 전체 conceptual captions)에서 사용할 수 있는 캡션 데이터세트를 사용하기 위해 튜토리얼은 변환하는 것은 어렵지 않음"
      ],
      "metadata": {
        "id": "zDJqJ3PS_to0"
      }
    },
    {
      "cell_type": "markdown",
      "source": [
        "### **Flickr8k**"
      ],
      "metadata": {
        "id": "Lsbo62CN3KKI"
      }
    },
    {
      "cell_type": "markdown",
      "source": [
        "#### 압축해제"
      ],
      "metadata": {
        "id": "r6lxmyM9xr-M"
      }
    },
    {
      "cell_type": "code",
      "source": [
        "#압축해제가안됨\n",
        "import zipfile\n",
        "\n",
        "def extract_files(path='flickr8k'):\n",
        "  path = pathlib.Path(path)\n",
        "  path.mkdir(parents=True, exist_ok=True)\n",
        "\n",
        "\n",
        "  # Flickr8k_Dataset.zip 압축 해제\n",
        "  dataset_zip = path / \"Flickr8k_Dataset.zip\"\n",
        "  if dataset_zip.exists():\n",
        "      with zipfile.ZipFile(dataset_zip, 'r') as zip_ref:\n",
        "          zip_ref.extractall(path)\n",
        "\n",
        "  # Flickr8k_text.zip 압축 해제\n",
        "  text_zip = path / \"Flickr8k_text.zip\"\n",
        "  if text_zip.exists():\n",
        "      with zipfile.ZipFile(text_zip, 'r') as zip_ref:\n",
        "          zip_ref.extractall(path)\n",
        "\n",
        "# 압축 해제 후 파일 목록 확인\n",
        "#print(list(path.glob(\"*\")))\n",
        "print()"
      ],
      "metadata": {
        "id": "-jThgJa0xvIP",
        "outputId": "f2a6ec12-7c71-4a5b-9797-b6c8f6bc5f61",
        "colab": {
          "base_uri": "https://localhost:8080/"
        }
      },
      "execution_count": 3,
      "outputs": [
        {
          "output_type": "stream",
          "name": "stdout",
          "text": [
            "\n"
          ]
        }
      ]
    },
    {
      "cell_type": "code",
      "source": [
        "# 압축해제가 정상적으로 안돼서 해제옵션 False 후 직접 압축해제\n",
        "def flickr8k(path='flickr8k'):\n",
        "  path = pathlib.Path(path)\n",
        "\n",
        "  if len(list(path.rglob('*'))) < 16197:\n",
        "    tf.keras.utils.get_file(\n",
        "        origin='https://github.com/jbrownlee/Datasets/releases/download/Flickr8k/Flickr8k_Dataset.zip',\n",
        "        cache_dir='.',\n",
        "        cache_subdir=path,\n",
        "        extract=False) #True\n",
        "    tf.keras.utils.get_file(\n",
        "        origin='https://github.com/jbrownlee/Datasets/releases/download/Flickr8k/Flickr8k_text.zip',\n",
        "        cache_dir='.',\n",
        "        cache_subdir=path, #path\n",
        "        extract=False) #True\n",
        "\n",
        "  #압축해제\n",
        "  extract_files()\n",
        "\n",
        "  #/content/flickr8k/Flickr8k_text.zip/Flickr8k.token.txt\n",
        "  #/content/flickr8k/Flicker\n",
        "  #path = pathlib.Path(path)/'Flickr8k_text.zip'\n",
        "  #/'Flickr8k_text.zip'\n",
        "  captions = (path/\"Flickr8k.token.txt\").read_text().splitlines()\n",
        "  captions = (line.split('\\t') for line in captions)\n",
        "  captions = ((fname.split('#')[0], caption) for (fname, caption) in captions)\n",
        "\n",
        "  cap_dict = collections.defaultdict(list)\n",
        "  for fname, cap in captions:\n",
        "    cap_dict[fname].append(cap)\n",
        "\n",
        "  #/'Flickr8k_Dataset.zip'\n",
        "  train_files = (path/'Flickr_8k.trainImages.txt').read_text().splitlines()\n",
        "  train_captions = [(str(path/'Flicker8k_Dataset'/fname), cap_dict[fname]) for fname in train_files]\n",
        "\n",
        "  test_files = (path/'Flickr_8k.testImages.txt').read_text().splitlines()\n",
        "  test_captions = [(str(path/'Flicker8k_Dataset'/fname), cap_dict[fname]) for fname in test_files]\n",
        "\n",
        "  train_ds = tf.data.experimental.from_list(train_captions)\n",
        "  test_ds = tf.data.experimental.from_list(test_captions)\n",
        "\n",
        "  return train_ds, test_ds"
      ],
      "metadata": {
        "id": "XM0ZMm9R3JSk"
      },
      "execution_count": 4,
      "outputs": []
    },
    {
      "cell_type": "markdown",
      "source": [
        "### **Conceptual Captions**"
      ],
      "metadata": {
        "id": "OcnHM-j45LjH"
      }
    },
    {
      "cell_type": "code",
      "source": [
        "def conceptual_captions(*, data_dir=\"conceptual_captions\", num_train, num_val):\n",
        "  def iter_index(index_path):\n",
        "    with open(index_path) as f:\n",
        "      for line in f:\n",
        "        caption, url = line.strip().split('\\t')\n",
        "        yield caption, url\n",
        "\n",
        "  def download_image_urls(data_dir, urls):\n",
        "    ex = concurrent.futures.ThreadPoolExecutor(max_workers=100)\n",
        "    def save_image(url):\n",
        "      hash = hashlib.sha1(url.encode())\n",
        "      # Name the files after the hash of the URL.\n",
        "      file_path = data_dir/f'{hash.hexdigest()}.jpeg'\n",
        "      if file_path.exists():\n",
        "        # Only download each file once.\n",
        "        return file_path\n",
        "\n",
        "      try:\n",
        "        result = requests.get(url, timeout=5)\n",
        "      except Exception:\n",
        "        file_path = None\n",
        "      else:\n",
        "        file_path.write_bytes(result.content)\n",
        "      return file_path\n",
        "\n",
        "    result = []\n",
        "    out_paths = ex.map(save_image, urls)\n",
        "    for file_path in tqdm.tqdm(out_paths, total=len(urls)):\n",
        "      result.append(file_path)\n",
        "\n",
        "    return result\n",
        "\n",
        "  def ds_from_index_file(index_path, data_dir, count):\n",
        "    data_dir.mkdir(exist_ok=True)\n",
        "    index = list(itertools.islice(iter_index(index_path), count))\n",
        "    captions = [caption for caption, url in index]\n",
        "    urls = [url for caption, url in index]\n",
        "\n",
        "    paths = download_image_urls(data_dir, urls)\n",
        "\n",
        "    new_captions = []\n",
        "    new_paths = []\n",
        "    for cap, path in zip(captions, paths):\n",
        "      if path is None:\n",
        "        # Download failed, so skip this pair.\n",
        "        continue\n",
        "      new_captions.append(cap)\n",
        "      new_paths.append(path)\n",
        "\n",
        "    new_paths = [str(p) for p in new_paths]\n",
        "\n",
        "    ds = tf.data.Dataset.from_tensor_slices((new_paths, new_captions))\n",
        "    ds = ds.map(lambda path,cap: (path, cap[tf.newaxis])) # 1 caption per image\n",
        "    return ds\n",
        "\n",
        "  data_dir = pathlib.Path(data_dir)\n",
        "  train_index_path = tf.keras.utils.get_file(\n",
        "    origin='https://storage.googleapis.com/gcc-data/Train/GCC-training.tsv',\n",
        "    cache_subdir=data_dir,\n",
        "    cache_dir='.')\n",
        "\n",
        "  val_index_path = tf.keras.utils.get_file(\n",
        "    origin='https://storage.googleapis.com/gcc-data/Validation/GCC-1.1.0-Validation.tsv',\n",
        "    cache_subdir=data_dir,\n",
        "    cache_dir='.')\n",
        "\n",
        "  train_raw = ds_from_index_file(train_index_path, data_dir=data_dir/'train', count=num_train)\n",
        "  test_raw = ds_from_index_file(val_index_path, data_dir=data_dir/'val', count=num_val)\n",
        "\n",
        "  return train_raw, test_raw"
      ],
      "metadata": {
        "id": "9dOJy3Tr5Ogx"
      },
      "execution_count": 5,
      "outputs": []
    },
    {
      "cell_type": "markdown",
      "source": [
        "### **데이터세트 다운로드**\n",
        "\n"
      ],
      "metadata": {
        "id": "JqSQA7LF87Zf"
      }
    },
    {
      "cell_type": "markdown",
      "source": [
        "Flickr8k는 이미지당 5개의 캡션과 더욱 소규모의 다운로드를 위한 더 많은 데이터 포함"
      ],
      "metadata": {
        "id": "htW3E00i9t3U"
      }
    },
    {
      "cell_type": "code",
      "source": [
        "choose = 'flickr8k'\n",
        "\n",
        "if choose == 'flickr8k':\n",
        "  train_raw, test_raw = flickr8k()\n",
        "else:\n",
        "  train_raw, test_raw = conceptual_captions(num_train=10000, num_val=5000)"
      ],
      "metadata": {
        "id": "xAJ0Op2w92_9",
        "outputId": "ae14f6fc-367e-4961-83ca-14dab3a369d4",
        "colab": {
          "base_uri": "https://localhost:8080/"
        }
      },
      "execution_count": 6,
      "outputs": [
        {
          "output_type": "stream",
          "name": "stdout",
          "text": [
            "Downloading data from https://github.com/jbrownlee/Datasets/releases/download/Flickr8k/Flickr8k_Dataset.zip\n",
            "\u001b[1m1115419746/1115419746\u001b[0m \u001b[32m━━━━━━━━━━━━━━━━━━━━\u001b[0m\u001b[37m\u001b[0m \u001b[1m4s\u001b[0m 0us/step\n",
            "Downloading data from https://github.com/jbrownlee/Datasets/releases/download/Flickr8k/Flickr8k_text.zip\n",
            "\u001b[1m2340801/2340801\u001b[0m \u001b[32m━━━━━━━━━━━━━━━━━━━━\u001b[0m\u001b[37m\u001b[0m \u001b[1m0s\u001b[0m 0us/step\n"
          ]
        }
      ]
    },
    {
      "cell_type": "markdown",
      "source": [
        "위의 두 데이터세트에 대한 로더는 (image_path, captions)쌍을 포함하는 tf.data.Dataset를 반환함\n",
        "* Conceptual Captions 는 이미지당 캡션 1개\n",
        "* Flickr8k 는 이미지당 캡션 5개"
      ],
      "metadata": {
        "id": "CXU_uxxX-Fw-"
      }
    },
    {
      "cell_type": "code",
      "source": [
        "train_raw.element_spec #element_spec 어떻게 알지?"
      ],
      "metadata": {
        "id": "6BHXUSK4-VU5",
        "outputId": "f6cd3df2-fd59-4821-9e47-61a834cf6407",
        "colab": {
          "base_uri": "https://localhost:8080/"
        }
      },
      "execution_count": 7,
      "outputs": [
        {
          "output_type": "execute_result",
          "data": {
            "text/plain": [
              "(TensorSpec(shape=(), dtype=tf.string, name=None),\n",
              " TensorSpec(shape=(5,), dtype=tf.string, name=None))"
            ]
          },
          "metadata": {},
          "execution_count": 7
        }
      ]
    },
    {
      "cell_type": "code",
      "source": [
        "for ex_path, ex_captions in train_raw.take(1): #take()\n",
        "  print(ex_path)\n",
        "  print(ex_captions)"
      ],
      "metadata": {
        "id": "kF7Ggmu1-Zaq",
        "outputId": "8a59aeec-af36-43c9-ee7c-be7db8633ef4",
        "colab": {
          "base_uri": "https://localhost:8080/"
        }
      },
      "execution_count": 8,
      "outputs": [
        {
          "output_type": "stream",
          "name": "stdout",
          "text": [
            "tf.Tensor(b'flickr8k/Flicker8k_Dataset/2513260012_03d33305cf.jpg', shape=(), dtype=string)\n",
            "tf.Tensor(\n",
            "[b'A black dog is running after a white dog in the snow .'\n",
            " b'Black dog chasing brown dog through snow'\n",
            " b'Two dogs chase each other across the snowy ground .'\n",
            " b'Two dogs play together in the snow .'\n",
            " b'Two dogs running through a low lying body of water .'], shape=(5,), dtype=string)\n"
          ]
        }
      ]
    },
    {
      "cell_type": "markdown",
      "source": [
        "## 이미지 특성 추출기\n",
        "\n",
        "각 이미지에서 특성을 추출하기 위해 이미지모델(imagenet 사전 훈련됨)을 사용함\n",
        "모델은 이미지분류기로 훈련되었지만, 'include_top=False'는 최종 분류 레이어 없이 모델을 반환하므로 특성 맵의 최종 레이어를 사용할 수 있음"
      ],
      "metadata": {
        "id": "BewBIkJp-hb4"
      }
    },
    {
      "cell_type": "code",
      "source": [
        "IMAGE_SHAPE=(224, 224, 3)\n",
        "mobilenet = tf.keras.applications.MobileNetV3Small(\n",
        "    input_shape=IMAGE_SHAPE,\n",
        "    include_top=False,\n",
        "    include_preprocessing=True\n",
        ")\n",
        "mobilenet.trainable=False"
      ],
      "metadata": {
        "id": "4ip7Rlgr-x4I",
        "outputId": "5cbe51fc-a41b-4cf1-fda9-28add0c41162",
        "colab": {
          "base_uri": "https://localhost:8080/"
        }
      },
      "execution_count": 9,
      "outputs": [
        {
          "output_type": "stream",
          "name": "stdout",
          "text": [
            "Downloading data from https://storage.googleapis.com/tensorflow/keras-applications/mobilenet_v3/weights_mobilenet_v3_small_224_1.0_float_no_top_v2.h5\n",
            "\u001b[1m4334752/4334752\u001b[0m \u001b[32m━━━━━━━━━━━━━━━━━━━━\u001b[0m\u001b[37m\u001b[0m \u001b[1m0s\u001b[0m 0us/step\n"
          ]
        }
      ]
    },
    {
      "cell_type": "markdown",
      "source": [
        "다음은 모델에 맞게 이미지를 로드하고 크기 조정 하는 함수"
      ],
      "metadata": {
        "id": "BuOrpniI_FJr"
      }
    },
    {
      "cell_type": "code",
      "source": [
        "def load_image(image_path):\n",
        "  img = tf.io.read_file(image_path)\n",
        "  img = tf.io.decode_jpeg(img, channels=3)\n",
        "  img = tf.image.resize(img, IMAGE_SHAPE[:-1])\n",
        "\n",
        "  return img"
      ],
      "metadata": {
        "id": "4P3GTtAQ_Isx"
      },
      "execution_count": 10,
      "outputs": []
    },
    {
      "cell_type": "markdown",
      "source": [
        "모델은 입력 매치의 각 이미지에 대한 특성 맵 반환"
      ],
      "metadata": {
        "id": "yKIVeSN9_ULt"
      }
    },
    {
      "cell_type": "code",
      "source": [
        "test_img_batch = load_image(ex_path)[tf.newaxis, :] #[] 부분; (128, 128, 3) -> (1, 128, 128, 3) 변경/ : >> 원래차원유지\n",
        "\n",
        "print(test_img_batch.shape)\n",
        "print(mobilenet(test_img_batch).shape)"
      ],
      "metadata": {
        "id": "sk0we0Nx_Xg4",
        "outputId": "82f4c031-9bef-48ef-e198-6b4e2a360bb1",
        "colab": {
          "base_uri": "https://localhost:8080/"
        }
      },
      "execution_count": 11,
      "outputs": [
        {
          "output_type": "stream",
          "name": "stdout",
          "text": [
            "(1, 224, 224, 3)\n",
            "(1, 7, 7, 576)\n"
          ]
        }
      ]
    },
    {
      "cell_type": "markdown",
      "source": [
        "## 텍스트 토크나이저/벡터라이저 설정\n",
        "\n",
        "[TextVectorization](http://www.tensorflow.org/api_docs/python/tf/keras/layers/TextVectorization)레이어를 사용하여 다음 단계에 따라 텍스트 캡션을 정수 시퀀스로 변환\n",
        "\n",
        "- [adapt](https://www.tensorflow.org/api_docs/python/tf/keras/layers/TextVectorization#adapt)를 사용하여 모든 캡션을 반복하고 캡션을 단어로 분할하고 상위 단어의 어휘를 계산\n",
        "- 각 단어를 어휘의 인덱스에 매핑하여 모든 캡션을 토큰화, 모든 출력 시퀀스의 길이 50\n",
        "- 단어에서 인덱스로, 인덱스에서 단어로의 메핑을 생성하여 결과 표시"
      ],
      "metadata": {
        "id": "IFRMxbtK_6pW"
      }
    },
    {
      "cell_type": "code",
      "source": [
        "def standardize(s):\n",
        "  s = tf.strings.lower(s)\n",
        "  s = tf.strings.regex_replace(s, f'[{re.escape(string.punctuation)}]', '')\n",
        "  s = tf.strings.join(['START', s,'END'], separator=' ')\n",
        "  return s"
      ],
      "metadata": {
        "id": "sMsDpgMdAiPF"
      },
      "execution_count": 12,
      "outputs": []
    },
    {
      "cell_type": "code",
      "source": [
        "#use the top 5000 words for a vocab\n",
        "vocabulary_size = 5000\n",
        "tokenizer = tf.keras.layers.TextVectorization(\n",
        "    max_tokens=vocabulary_size,\n",
        "    standardize=standardize,\n",
        "    ragged=True\n",
        ")\n",
        "#learn the vocabulary from the caption data"
      ],
      "metadata": {
        "id": "ZK9qm2zkA5HJ"
      },
      "execution_count": 13,
      "outputs": []
    },
    {
      "cell_type": "code",
      "source": [
        "tokenizer.adapt(train_raw.map(lambda fp, txt:txt).unbatch().batch(1024)) #전부"
      ],
      "metadata": {
        "id": "CVCJReIaBMIo"
      },
      "execution_count": 14,
      "outputs": []
    },
    {
      "cell_type": "code",
      "source": [
        "tokenizer.get_vocabulary()[:10]"
      ],
      "metadata": {
        "id": "HqTHH4GPBScX",
        "outputId": "b329b580-c2b3-4bfe-d55b-f46f889fb8e2",
        "colab": {
          "base_uri": "https://localhost:8080/"
        }
      },
      "execution_count": 15,
      "outputs": [
        {
          "output_type": "execute_result",
          "data": {
            "text/plain": [
              "['', '[UNK]', 'a', 'START', 'END', 'in', 'the', 'on', 'is', 'and']"
            ]
          },
          "metadata": {},
          "execution_count": 15
        }
      ]
    },
    {
      "cell_type": "code",
      "source": [
        "t = tokenizer([['a cat in a hat'], ['a robot dog']])\n",
        "t"
      ],
      "metadata": {
        "id": "mv6XmDmvBWI9",
        "outputId": "ad2e6e4c-cfb7-4dba-f167-fc145e1b7eff",
        "colab": {
          "base_uri": "https://localhost:8080/"
        }
      },
      "execution_count": 16,
      "outputs": [
        {
          "output_type": "execute_result",
          "data": {
            "text/plain": [
              "<tf.RaggedTensor [[3, 2, 655, 5, 2, 97, 4], [3, 2, 1937, 10, 4]]>"
            ]
          },
          "metadata": {},
          "execution_count": 16
        }
      ]
    },
    {
      "cell_type": "code",
      "source": [
        "#create mappings for words to indices and indices to words\n",
        "word_to_index = tf.keras.layers.StringLookup(\n",
        "    mask_token='', #왜지?\n",
        "    vocabulary=tokenizer.get_vocabulary()\n",
        ")\n",
        "index_to_word = tf.keras.layers.StringLookup(\n",
        "    mask_token='',\n",
        "    vocabulary=tokenizer.get_vocabulary(),\n",
        "    invert=True\n",
        ")"
      ],
      "metadata": {
        "id": "jBMmi-XeBgYY"
      },
      "execution_count": 17,
      "outputs": []
    },
    {
      "cell_type": "code",
      "source": [
        "w = index_to_word(t)\n",
        "w.to_list()"
      ],
      "metadata": {
        "id": "4MX-sHzAB2uR",
        "outputId": "109e4039-e98e-4c75-dc12-d1f268a922da",
        "colab": {
          "base_uri": "https://localhost:8080/"
        }
      },
      "execution_count": 18,
      "outputs": [
        {
          "output_type": "execute_result",
          "data": {
            "text/plain": [
              "[[b'START', b'a', b'cat', b'in', b'a', b'hat', b'END'],\n",
              " [b'START', b'a', b'robot', b'dog', b'END']]"
            ]
          },
          "metadata": {},
          "execution_count": 18
        }
      ]
    },
    {
      "cell_type": "code",
      "source": [
        "tf.strings.reduce_join(w, separator=' ', axis=-1).numpy() #reduce의 의미???단순 내적이라는건가"
      ],
      "metadata": {
        "id": "7WRz39zuB5WD",
        "outputId": "4a45e5d3-5f06-4744-e3cc-bad6b7f1852f",
        "colab": {
          "base_uri": "https://localhost:8080/"
        }
      },
      "execution_count": 19,
      "outputs": [
        {
          "output_type": "execute_result",
          "data": {
            "text/plain": [
              "array([b'START a cat in a hat END', b'START a robot dog END'],\n",
              "      dtype=object)"
            ]
          },
          "metadata": {},
          "execution_count": 19
        }
      ]
    },
    {
      "cell_type": "markdown",
      "source": [
        "## 데이터세트 준비"
      ],
      "metadata": {
        "id": "1nz0aJ_QCBKg"
      }
    },
    {
      "cell_type": "markdown",
      "source": [
        "'train_raw' 및 'test_raw' 데이터세트는 1:많은 '(image, captions)' 쌍 포함\n",
        "\n",
        "이 함수는 이미지를 복제하여 캡션에 1:1 매치"
      ],
      "metadata": {
        "id": "dFxmyJCgCFTX"
      }
    },
    {
      "cell_type": "code",
      "source": [
        "def match_shapes(images, captions):\n",
        "  caption_shape = einops.parse_shape(captions, 'b c') #bc?\n",
        "  captions = einops.rearrange(captions, 'b c -> (b c)')\n",
        "  images = einops.repeat(\n",
        "      images, 'b ... -> (b c) ...',\n",
        "      c = caption_shape['c']\n",
        "  )\n",
        "  return images, captions"
      ],
      "metadata": {
        "id": "V-s0NWcxCEkW"
      },
      "execution_count": 20,
      "outputs": []
    },
    {
      "cell_type": "code",
      "source": [
        "for ex_paths, ex_captions in train_raw.batch(32).take(1):\n",
        "  break    #???\n",
        "\n",
        "print('image path:', ex_paths.shape)\n",
        "print('captions: ', ex_captions.shape)\n",
        "print()\n",
        "\n",
        "ex_paths, ex_captions = match_shapes(images=ex_paths, captions=ex_captions)\n",
        "\n",
        "print('image_paths:', ex_paths.shape)\n",
        "print('captions:', ex_captions.shape)"
      ],
      "metadata": {
        "id": "rAoW_FoYCrQS",
        "outputId": "9dd966c1-6427-4d04-884b-d5d30acf68da",
        "colab": {
          "base_uri": "https://localhost:8080/"
        }
      },
      "execution_count": 21,
      "outputs": [
        {
          "output_type": "stream",
          "name": "stdout",
          "text": [
            "image path: (32,)\n",
            "captions:  (32, 5)\n",
            "\n",
            "image_paths: (160,)\n",
            "captions: (160,)\n"
          ]
        }
      ]
    },
    {
      "cell_type": "markdown",
      "source": [
        "keras 훈련과 호환되려면 데잍터세트느 ㄴ(inputs, labels)쌍을 포함해야함\n",
        "텍스트생성의 경우 토큰은 한 단계 디종된 입력과 라벨\n",
        "이 함수는 '(images, texts)'쌍을 '((images, input_tokens), label_tokens)'쌍으로 변환"
      ],
      "metadata": {
        "id": "aDFZg-lBDFRv"
      }
    },
    {
      "cell_type": "code",
      "source": [
        "def prepare_txt(imgs, txts):\n",
        "  tokens = tokenizer(txts)\n",
        "\n",
        "  input_tokens = tokens[..., :-1]\n",
        "  label_tokens = tokens[..., 1:]\n",
        "  label_tokens = tf.cast(label_tokens, dtype=tf.int64)\n",
        "  print(f'label_tokens.dtype: {label_tokens.dtype}')\n",
        "  return (imgs, input_tokens), label_tokens\n",
        "\n",
        "#label_tokens.shape: (None, None)\n",
        "\n"
      ],
      "metadata": {
        "id": "rGGMyMoODTVc"
      },
      "execution_count": 88,
      "outputs": []
    },
    {
      "cell_type": "markdown",
      "source": [
        "이 함수는 연산을 데이터세트에 추가\n",
        "1. 이미지 로드(실패이미지무시)\n",
        "2. 이미지를 복제하여 캡션의 숫자와 매칭\n",
        "3. 'image, caption' 쌍을 섞고 재배치\n",
        "4. 텍스트를 토큰화하고 토큰을 이동하여 'label_tokens'을 추가\n",
        "5. 'RaggedTensor'표현에서 텍스트를 패딩처리된 밀도 높은 'Tensor' 표현으로 변환"
      ],
      "metadata": {
        "id": "Xac0gwOkDiGH"
      }
    },
    {
      "cell_type": "code",
      "source": [
        "def prepare_dataset(ds, tokenizer, batch_size=32, shuffle_buffer=1000):\n",
        "  # Load the images and make batches.\n",
        "  ds = (ds\n",
        "        .shuffle(10000)\n",
        "        .map(lambda path, caption: (load_image(path), caption))\n",
        "        .apply(tf.data.experimental.ignore_errors())\n",
        "        .batch(batch_size))\n",
        "\n",
        "  def to_tensor(inputs, labels):\n",
        "    (images, in_tok), out_tok = inputs, labels\n",
        "    return (images, in_tok.to_tensor()), tf.cast(out_tok.to_tensor(), dtype=tf.int64)  #out_tok.to_tensor()\n",
        "\n",
        "  return (ds\n",
        "          .map(match_shapes, tf.data.AUTOTUNE)\n",
        "          .unbatch()\n",
        "          .shuffle(shuffle_buffer)\n",
        "          .batch(batch_size)\n",
        "          .map(prepare_txt, tf.data.AUTOTUNE)\n",
        "          .map(to_tensor, tf.data.AUTOTUNE)\n",
        "          )"
      ],
      "metadata": {
        "id": "gdGpD3y-D2Mg"
      },
      "execution_count": 95,
      "outputs": []
    },
    {
      "cell_type": "markdown",
      "source": [
        "모델에 특성 추출기를 설치하고 다음과 같이 데이터세트에서 훈련"
      ],
      "metadata": {
        "id": "07UqLQgGEok9"
      }
    },
    {
      "cell_type": "code",
      "source": [
        "train_ds = prepare_dataset(train_raw, tokenizer)\n",
        "train_ds.element_spec"
      ],
      "metadata": {
        "id": "C-MhtxZdEr0M",
        "outputId": "8ddba039-73d4-49fc-ea40-b7c1d1f129aa",
        "colab": {
          "base_uri": "https://localhost:8080/"
        }
      },
      "execution_count": 96,
      "outputs": [
        {
          "output_type": "stream",
          "name": "stdout",
          "text": [
            "label_tokens.dtype: <dtype: 'int64'>\n"
          ]
        },
        {
          "output_type": "execute_result",
          "data": {
            "text/plain": [
              "((TensorSpec(shape=(None, 224, 224, 3), dtype=tf.float32, name=None),\n",
              "  TensorSpec(shape=(None, None), dtype=tf.int64, name=None)),\n",
              " TensorSpec(shape=(None, None), dtype=tf.int64, name=None))"
            ]
          },
          "metadata": {},
          "execution_count": 96
        }
      ]
    },
    {
      "cell_type": "code",
      "source": [
        "test_ds = prepare_dataset(test_raw, tokenizer)\n",
        "test_ds.element_spec"
      ],
      "metadata": {
        "id": "u1Ia7UMbEwf4",
        "outputId": "c9ec1255-c7c4-457b-ce00-9ff072a7c9f5",
        "colab": {
          "base_uri": "https://localhost:8080/"
        }
      },
      "execution_count": 97,
      "outputs": [
        {
          "output_type": "stream",
          "name": "stdout",
          "text": [
            "label_tokens.dtype: <dtype: 'int64'>\n"
          ]
        },
        {
          "output_type": "execute_result",
          "data": {
            "text/plain": [
              "((TensorSpec(shape=(None, 224, 224, 3), dtype=tf.float32, name=None),\n",
              "  TensorSpec(shape=(None, None), dtype=tf.int64, name=None)),\n",
              " TensorSpec(shape=(None, None), dtype=tf.int64, name=None))"
            ]
          },
          "metadata": {},
          "execution_count": 97
        }
      ]
    },
    {
      "cell_type": "markdown",
      "source": [
        "## [선택사항] 이미지 특성 캐싱하기\n"
      ],
      "metadata": {
        "id": "8tR24eNiE5xc"
      }
    },
    {
      "cell_type": "markdown",
      "source": [
        "이미지 특성 추출기가 변경되지 않으며 이 튜토리얼은 증강을 사용하지 않아 이미지특성은 캐싱될 수 있음\n",
        "<!-- 증강하면 이미지 특성 캐싱안되나? -->\n",
        "텍스트토큰화의경우도 동일\n",
        "\n",
        "캐시를 설정하는ㄴ데 드는 시간은 훈련 및 검증 중 각 에포크에서 다시 획득\n",
        "\n",
        "아래의 코드는 두 개의 함수인 'save_dataset' 및 'load_dataset' 정의"
      ],
      "metadata": {
        "id": "ocIAILVkE-fu"
      }
    },
    {
      "cell_type": "code",
      "source": [
        "def save_dataset(ds, save_path, image_model, tokenizer, shards=10, batch_size=32):\n",
        "  # Load the images and make batches.\n",
        "  ds = (ds\n",
        "        .map(lambda path, caption: (load_image(path), caption))\n",
        "        .apply(tf.data.experimental.ignore_errors())\n",
        "        .batch(batch_size))\n",
        "\n",
        "  # Run the feature extractor on each batch\n",
        "  # Don't do this in a .map, because tf.data runs on the CPU.\n",
        "  def gen():\n",
        "    for (images, captions) in tqdm.tqdm(ds):\n",
        "      feature_maps = image_model(images)\n",
        "\n",
        "      feature_maps, captions = match_shapes(feature_maps, captions)\n",
        "      yield feature_maps, captions\n",
        "\n",
        "  # Wrap the generator in a new tf.data.Dataset.\n",
        "  new_ds = tf.data.Dataset.from_generator(\n",
        "      gen,\n",
        "      output_signature=(\n",
        "          tf.TensorSpec(shape=image_model.output_shape),\n",
        "          tf.TensorSpec(shape=(None,), dtype=tf.string)))\n",
        "\n",
        "  # Apply the tokenization\n",
        "  new_ds = (new_ds\n",
        "            .map(prepare_txt, tf.data.AUTOTUNE)\n",
        "            .unbatch()\n",
        "            .shuffle(1000))\n",
        "\n",
        "  # Save the dataset into shard files.\n",
        "  def shard_func(i, item):\n",
        "    return i % shards\n",
        "  new_ds.enumerate().save(save_path, shard_func=shard_func)\n",
        "\n",
        "def load_dataset(save_path, batch_size=32, shuffle=1000, cycle_length=2):\n",
        "  def custom_reader_func(datasets):\n",
        "    datasets = datasets.shuffle(1000)\n",
        "    return datasets.interleave(lambda x: x, cycle_length=cycle_length)\n",
        "\n",
        "  ds = tf.data.Dataset.load(save_path, reader_func=custom_reader_func)\n",
        "\n",
        "  def drop_index(i, x):\n",
        "    return x\n",
        "\n",
        "  ds = (ds\n",
        "        .map(drop_index, tf.data.AUTOTUNE)\n",
        "        .shuffle(shuffle)\n",
        "        .padded_batch(batch_size)\n",
        "        .prefetch(tf.data.AUTOTUNE))\n",
        "  return ds\n",
        ""
      ],
      "metadata": {
        "id": "ZjFJKqt_FSws"
      },
      "execution_count": 98,
      "outputs": []
    },
    {
      "cell_type": "code",
      "source": [
        "save_dataset(train_raw, 'train_cache', mobilenet, tokenizer)\n",
        "save_dataset(test_raw, 'test_cache', mobilenet, tokenizer)"
      ],
      "metadata": {
        "id": "-96njELBHpGC",
        "outputId": "000bd5f9-4d09-45f6-bd5d-458323e6a406",
        "colab": {
          "base_uri": "https://localhost:8080/"
        }
      },
      "execution_count": 99,
      "outputs": [
        {
          "output_type": "stream",
          "name": "stdout",
          "text": [
            "label_tokens.dtype: <dtype: 'int64'>\n"
          ]
        },
        {
          "output_type": "stream",
          "name": "stderr",
          "text": [
            "188it [00:51,  3.64it/s]\n"
          ]
        },
        {
          "output_type": "stream",
          "name": "stdout",
          "text": [
            "label_tokens.dtype: <dtype: 'int64'>\n"
          ]
        },
        {
          "output_type": "stream",
          "name": "stderr",
          "text": [
            "32it [00:10,  3.07it/s]\n"
          ]
        }
      ]
    },
    {
      "cell_type": "markdown",
      "source": [
        "# 훈련을 위한 데이터 준비\n",
        "\n",
        "이러한 사전 처리 단계 후, 데이터세트는 다음과 같음"
      ],
      "metadata": {
        "id": "Tw7SCj01HxwK"
      }
    },
    {
      "cell_type": "code",
      "source": [
        "train_ds = load_dataset('train_cache')\n",
        "test_ds = load_dataset('test_cache')"
      ],
      "metadata": {
        "id": "K9ZM2EK1JVcl"
      },
      "execution_count": 100,
      "outputs": []
    },
    {
      "cell_type": "code",
      "source": [
        "train_ds.element_spec"
      ],
      "metadata": {
        "id": "8KiiOpQ7Jaig",
        "outputId": "ce7a6c10-36c6-4438-aaa0-445652d71c7d",
        "colab": {
          "base_uri": "https://localhost:8080/"
        }
      },
      "execution_count": 101,
      "outputs": [
        {
          "output_type": "execute_result",
          "data": {
            "text/plain": [
              "((TensorSpec(shape=(None, 7, 7, 576), dtype=tf.float32, name=None),\n",
              "  TensorSpec(shape=(None, None), dtype=tf.int64, name=None)),\n",
              " TensorSpec(shape=(None, None), dtype=tf.int64, name=None))"
            ]
          },
          "metadata": {},
          "execution_count": 101
        }
      ]
    },
    {
      "cell_type": "markdown",
      "source": [
        "데이터세트는 keras 훈련에 적합한 (input, label) 쌍 반환\n",
        "\n",
        "inputs 은 (images, input_tokens) 쌍\n",
        "images 는 특성추출기 모델로 처리됨\n",
        "input_tokens 의 각 위치의 경우 모델은 지금까지의 텍스트를 보고 labels의 같은 위치에서 나열된 다음 텍스트 예측 시도"
      ],
      "metadata": {
        "id": "KYi9SDqsJcoo"
      }
    },
    {
      "cell_type": "code",
      "source": [
        "for (inputs, ex_labels) in train_ds.take(1):\n",
        "  (ex_img, ex_in_tok) = inputs\n",
        "\n",
        "  print(ex_img.shape, ex_img.dtype)\n",
        "  print(ex_in_tok.shape, ex_in_tok.dtype)\n",
        "  print(ex_labels.shape, ex_labels.dtype)"
      ],
      "metadata": {
        "id": "HGsy3Jg-JuUQ",
        "outputId": "e1966959-ad8c-4548-c01d-d73b034d6cea",
        "colab": {
          "base_uri": "https://localhost:8080/"
        }
      },
      "execution_count": 127,
      "outputs": [
        {
          "output_type": "stream",
          "name": "stdout",
          "text": [
            "(32, 7, 7, 576) <dtype: 'float32'>\n",
            "(32, 21) <dtype: 'int64'>\n",
            "(32, 21) <dtype: 'int64'>\n"
          ]
        }
      ]
    },
    {
      "cell_type": "markdown",
      "source": [
        "입력 토큰 및 라벨은 동일하며, 다음과 같이 한 단계민 이동"
      ],
      "metadata": {
        "id": "yVNVa158KAc6"
      }
    },
    {
      "cell_type": "code",
      "source": [
        "print(ex_in_tok[0].numpy())\n",
        "print(ex_labels[0].numpy())"
      ],
      "metadata": {
        "id": "p0BnZdhQKDpd",
        "outputId": "f560fdbd-f163-40ca-84f7-b4e6a33f926e",
        "colab": {
          "base_uri": "https://localhost:8080/"
        }
      },
      "execution_count": 103,
      "outputs": [
        {
          "output_type": "stream",
          "name": "stdout",
          "text": [
            "[  3   2  17   8 795   2 134  37   2 394 105   0   0   0   0   0   0   0\n",
            "   0   0   0   0   0   0   0   0   0   0]\n",
            "[  2  17   8 795   2 134  37   2 394 105   4   0   0   0   0   0   0   0\n",
            "   0   0   0   0   0   0   0   0   0   0]\n"
          ]
        }
      ]
    },
    {
      "cell_type": "markdown",
      "source": [
        "# 트랜스포머 디코더 모델"
      ],
      "metadata": {
        "id": "FVN4KGXiKKSO"
      }
    },
    {
      "cell_type": "markdown",
      "source": [
        "이 모델은 사전 훈련된 이미지 인코더가 충분하다고 가정하며 텍스트 디코더를 빌드하는데만 집중\n",
        "이 튜토리얼은 2단 레이어 트랜스포머디코더사용\n",
        "<!-- 사전 훈련 이미지 인코더가 충분하지 않다면? 사전 훈련 이미지 인코더를 빌드하는데 집중하려면? 2단 레이어 트랜스포머디코더를 사용하지 않는다면? -->\n",
        "\n",
        "이 구현은 [Transformer 튜토리얼](https://www.tensorflow.org/text/tutorials/transformer)의 구현과 거의 동일\n",
        "\n",
        "<table>\n",
        "<tr>\n",
        "<th> 트랜스포머 인코더 및 디코더 </th>\n",
        "</tr>\n",
        "<tr>\n",
        "<td> <img width='400' src='https://www.tensorflow.org/images/tutorials/transformer/Transformer-1layer-words.png'>\n",
        "</td>\n",
        "</tr>\n",
        "</table>"
      ],
      "metadata": {
        "id": "NPo9f_O3KPK3"
      }
    },
    {
      "cell_type": "markdown",
      "source": [
        "1. 입력 - 토큰 임베딩 및 위치 인코딩 (seqembedding)\n",
        "2. 디코더 - 각 다음을 포함하는 트랜스포머 디코더 레이어(decoderlayer)의 스택\n",
        "    1. 추후 각 출력 위치가 지금까지 출력에 대해 처리할 수 있는 인과적 셀프어텐션(`causalselfattention`)\n",
        "    2. 각 출력 위치가 입력 이미지를 추리할 수 있는 크로스 어텐션 레이어 (`crossattention`)\n",
        "    3. 각 출력 위치를 독립적으로 추가로 처리하는 피드 포워드 네트워크 (`feedforward`)레이어\n",
        "3. 출력 - 출력 어휘에 대한 멀티 클래스 분류"
      ],
      "metadata": {
        "id": "huQMnExoK56Z"
      }
    },
    {
      "cell_type": "markdown",
      "source": [
        "## 입력"
      ],
      "metadata": {
        "id": "iQasq-ZTL571"
      }
    },
    {
      "cell_type": "markdown",
      "source": [
        "입력 텍스트는 이미 토큰으로 분할되고 id 시퀀스로 변환되었음\n",
        "CNN 또는 RNN과 다르게 트랜스포머의 어텐션 레이어는 시퀀스의 순서에 대해 변하지 않음\n",
        "몇몇 위치 입력이 없다면 시퀀스가 아닌 세트만 봄\n",
        "따라서 각 토큰 ID에 대한 단순 벡터 임베딩 외 임베딩 레이어는 시퀀스 내 각 위치에 대한 임베딩도 포함\n",
        "\n",
        "`SeqEmbedding` 레이어는 다음과 같이 정의\n",
        "* 각 토큰에 대한 임베딩 벡터 검색\n",
        "* 각 시퀀스 위치에 대한 임베딩 벡터 검색\n",
        "* 두 개 모두 합함\n",
        "* `mask_zero=True`를 이용하여 모델에 대한 keras 마스크 초기화\n",
        "\n",
        "참고: 이 구현은 [Transformer 튜토리얼](https://www.tensorflow.org/text/tutorials/transformer)에서와 같이 고정된 임베딩을 사용하는 대신 위치 임베딩을 학습합니다. 임베딩을 학습하는 것은 코드가 약간 적지만 더 긴 시퀀스로 일반화되지는 않습니다."
      ],
      "metadata": {
        "id": "AnbQmlr8L69z"
      }
    },
    {
      "cell_type": "code",
      "source": [
        "class SeqEmbedding(tf.keras.layers.Layer):\n",
        "  def __init__(self, vocab_size, max_length, depth):\n",
        "    super().__init__()\n",
        "    self.pos_embedding = tf.keras.layers.Embedding(input_dim=max_length, output_dim=depth)\n",
        "\n",
        "    self.token_embedding = tf.keras.layers.Embedding(\n",
        "        input_dim=vocab_size,\n",
        "        output_dim=depth,\n",
        "        mask_zero=True)\n",
        "\n",
        "    self.add = tf.keras.layers.Add()\n",
        "\n",
        "  def call(self, seq):\n",
        "    seq = self.token_embedding(seq) # (batch, seq, depth)\n",
        "\n",
        "    x = tf.range(tf.shape(seq)[1])  # (seq)\n",
        "    x = x[tf.newaxis, :]  # (1, seq)\n",
        "    x = self.pos_embedding(x)  # (1, seq, depth)\n",
        "\n",
        "    return self.add([seq,x])"
      ],
      "metadata": {
        "id": "nHfkYlr1K6kE"
      },
      "execution_count": 104,
      "outputs": []
    },
    {
      "cell_type": "markdown",
      "source": [
        "## 디코더"
      ],
      "metadata": {
        "id": "rdMfelOvNkQ2"
      }
    },
    {
      "cell_type": "markdown",
      "source": [
        "디코더는 표준 트랜스포머 디코더로, 각 세 개의 하위 레이어인 `CausalSelfAttention`, `CrossAttention` 및 `FeedForward`를 포함하는 `DecoderLayers`의 스택을 포함\n",
        "\n",
        "구현은 [Transformer 튜토리얼](https://www.tensorflow.org/text/tutorials/transformer)과 거의 동일하며, 자세한 내용은 이를 참조하세요.\n",
        "<br>\n",
        "\n",
        "\n",
        "다음은 `CausalSelfAttention`레이어"
      ],
      "metadata": {
        "id": "AlzRS4bDNlz_"
      }
    },
    {
      "cell_type": "code",
      "source": [
        "class CausalSelfAttention(tf.keras.layers.Layer):\n",
        "  def __init__(self, **kwargs):\n",
        "    super().__init__()\n",
        "    self.mha = tf.keras.layers.MultiHeadAttention(**kwargs)\n",
        "    # Use Add instead of + so the keras mask propagates through.\n",
        "    self.add = tf.keras.layers.Add()\n",
        "    self.layernorm = tf.keras.layers.LayerNormalization()\n",
        "\n",
        "  def call(self, x):\n",
        "    attn = self.mha(query=x, value=x,\n",
        "                    use_causal_mask=True)\n",
        "    x = self.add([x, attn])\n",
        "    return self.layernorm(x)"
      ],
      "metadata": {
        "id": "BjUd6kDKN6Lf"
      },
      "execution_count": 105,
      "outputs": []
    },
    {
      "cell_type": "markdown",
      "source": [
        "아래는 `CrossAttention`레이어\n",
        "\n",
        "`return_attention_scores` 사용하는 데 유의"
      ],
      "metadata": {
        "id": "90tM2zvaOl5T"
      }
    },
    {
      "cell_type": "code",
      "source": [
        "class CrossAttention(tf.keras.layers.Layer):\n",
        "  def __init__(self,**kwargs):\n",
        "    super().__init__()\n",
        "    self.mha = tf.keras.layers.MultiHeadAttention(**kwargs)\n",
        "    self.add = tf.keras.layers.Add()\n",
        "    self.layernorm = tf.keras.layers.LayerNormalization()\n",
        "\n",
        "  def call(self, x, y, **kwargs):\n",
        "    attn, attention_scores = self.mha(\n",
        "             query=x, value=y,\n",
        "             return_attention_scores=True)\n",
        "\n",
        "    self.last_attention_scores = attention_scores\n",
        "\n",
        "    x = self.add([x, attn])\n",
        "    return self.layernorm(x)"
      ],
      "metadata": {
        "id": "BZwSVjhtOrld"
      },
      "execution_count": 106,
      "outputs": []
    },
    {
      "cell_type": "markdown",
      "source": [
        "아래는 `FeedFoward` 레이어\n",
        "`layers.Dense`레이어는 입력의 최종 축에 적용된다는 점 기억\n",
        "<!-- 입력의 최종 축? -->\n",
        "입력의 형태는 `(batch, sequence, channels)`이므로 `batch` 및 `sequence` 푹에 걸쳐 포인트별로 자동으로 적용"
      ],
      "metadata": {
        "id": "6OUfSHuxPUB-"
      }
    },
    {
      "cell_type": "code",
      "source": [
        "class FeedForward(tf.keras.layers.Layer):\n",
        "  def __init__(self, units, dropout_rate=0.1):\n",
        "    super().__init__()\n",
        "    self.seq = tf.keras.Sequential([\n",
        "        tf.keras.layers.Dense(units=2*units, activation='relu'),\n",
        "        tf.keras.layers.Dense(units=units),\n",
        "        tf.keras.layers.Dropout(rate=dropout_rate),\n",
        "    ])\n",
        "\n",
        "    self.layernorm = tf.keras.layers.LayerNormalization()\n",
        "\n",
        "  def call(self, x):\n",
        "    x = x + self.seq(x)\n",
        "    return self.layernorm(x)"
      ],
      "metadata": {
        "id": "ACkeMFKGPmrO"
      },
      "execution_count": 107,
      "outputs": []
    },
    {
      "cell_type": "markdown",
      "source": [
        "다음으로 이러한 세 가지 레이어를 더 큰 규모의 `DecoderLayer`에 배열\n",
        "각 디코더 레이어는 시퀀스에 세 개의 더 작은 레이어 적용\n",
        "\n",
        "각 하위 레이어 다음의 `outt_seq`형태는 `(batch, sequence, channels)`\n",
        "\n",
        "디코더 레이어는 추후 시각화를 위한 `attention_scores`반환"
      ],
      "metadata": {
        "id": "d3s7G1wRQKhc"
      }
    },
    {
      "cell_type": "code",
      "source": [
        "class DecoderLayer(tf.keras.layers.Layer):\n",
        "  def __init__(self, units, num_heads=1, dropout_rate=0.1):\n",
        "    super().__init__()\n",
        "\n",
        "    self.self_attention = CausalSelfAttention(num_heads=num_heads,\n",
        "                                              key_dim=units,\n",
        "                                              dropout=dropout_rate)\n",
        "    self.cross_attention = CrossAttention(num_heads=num_heads,\n",
        "                                          key_dim=units,\n",
        "                                          dropout=dropout_rate)\n",
        "    self.ff = FeedForward(units=units, dropout_rate=dropout_rate)\n",
        "\n",
        "\n",
        "  def call(self, inputs, training=False):\n",
        "    in_seq, out_seq = inputs\n",
        "\n",
        "    # Text input\n",
        "    out_seq = self.self_attention(out_seq)\n",
        "\n",
        "    out_seq = self.cross_attention(out_seq, in_seq)\n",
        "\n",
        "    self.last_attention_scores = self.cross_attention.last_attention_scores\n",
        "\n",
        "    out_seq = self.ff(out_seq)\n",
        "\n",
        "    return out_seq\n",
        ""
      ],
      "metadata": {
        "id": "gdAQui-LQaZk"
      },
      "execution_count": 108,
      "outputs": []
    },
    {
      "cell_type": "markdown",
      "source": [
        "## 출력"
      ],
      "metadata": {
        "id": "b-79MxgaRU7D"
      }
    },
    {
      "cell_type": "markdown",
      "source": [
        "출력 레이어는 각 위치에서 각 토큰에 대한 로짓 예측을 생성하려면 최소한 `layers.Dense`레이어가 필요"
      ],
      "metadata": {
        "id": "xQ7keMVaRWQN"
      }
    },
    {
      "cell_type": "markdown",
      "source": [
        "하지만 이 작업을 좀 더 잘 수행할 수 있도록 추가할 수 있는 몇가지 다른 특성\n",
        "1. **잘못된 토큰 처리**: 모델은 텍스트를 생성합니다. 패딩, 알 수 없는 또는 시작 토큰(`''`, `'[UNK]'`, '[START]'`)을 생성해서는 안됩니다.  따라서 이들에 대한 편향을 큰 음수값으로 설정합니다\n",
        "<!-- 왜? 음수값을 크게하면?? -->\n",
        "    > 참고: 손실 함수의 이러한 토큰 역시 무시해야 합니다.\n",
        "\n",
        "2. **스마트 초기화**: 밀도가 높은 레이어의 기본 초기화는 거의 균일한 확률로 각 토큰을 초기에 예측하는 모델을 제공합니다. 실제 토큰 분포는 균일한 것와는 거리가 멉니다. 출력 레이어의 초기 편향을 위한 최적값은 각 토큰의 확률 로그입니다. 이는 균일한 분포 (`log(vocalbulary_size)`)의 엔트로피로부터의 분포의 한계 엔트로피(`'-p*log(p)'`)로 초기 손실을 줄입니다."
      ],
      "metadata": {
        "id": "TX6NaipJRdaC"
      }
    },
    {
      "cell_type": "code",
      "source": [
        "#@title\n",
        "class TokenOutput(tf.keras.layers.Layer):\n",
        "  def __init__(self, tokenizer, banned_tokens=('', '[UNK]', '[START]'), **kwargs):\n",
        "    super().__init__()\n",
        "\n",
        "    self.dense = tf.keras.layers.Dense(\n",
        "        units=tokenizer.vocabulary_size(), **kwargs)\n",
        "    self.tokenizer = tokenizer\n",
        "    self.banned_tokens = banned_tokens\n",
        "\n",
        "    self.bias = None\n",
        "\n",
        "  def adapt(self, ds):\n",
        "    counts = collections.Counter()\n",
        "    vocab_dict = {name: id\n",
        "                  for id, name in enumerate(self.tokenizer.get_vocabulary())}\n",
        "\n",
        "    for tokens in tqdm.tqdm(ds):\n",
        "      counts.update(tokens.numpy().flatten())\n",
        "\n",
        "    counts_arr = np.zeros(shape=(self.tokenizer.vocabulary_size(),))\n",
        "    counts_arr[np.array(list(counts.keys()), dtype=np.int32)] = list(counts.values())\n",
        "\n",
        "    counts_arr = counts_arr[:]\n",
        "    for token in self.banned_tokens:\n",
        "      if token in vocab_dict:\n",
        "        counts_arr[vocab_dict[token]] = 0 #error '[START]'\n",
        "\n",
        "    total = counts_arr.sum()\n",
        "    p = counts_arr/total\n",
        "    p[counts_arr==0] = 1.0\n",
        "    log_p = np.log(p)  # log(1) == 0\n",
        "\n",
        "    entropy = -(log_p*p).sum()\n",
        "\n",
        "    print()\n",
        "    print(f\"Uniform entropy: {np.log(self.tokenizer.vocabulary_size()):0.2f}\")\n",
        "    print(f\"Marginal entropy: {entropy:0.2f}\")\n",
        "\n",
        "    self.bias = log_p\n",
        "    self.bias[counts_arr==0] = -1e9\n",
        "\n",
        "  def call(self, x):\n",
        "    x = self.dense(x)\n",
        "    # TODO(b/250038731): Fix this.\n",
        "    # An Add layer doesn't work because of the different shapes.\n",
        "    # This clears the mask, that's okay because it prevents keras from rescaling\n",
        "    # the losses.\n",
        "    return x + self.bias\n"
      ],
      "metadata": {
        "id": "EMb6yGU0Yp45"
      },
      "execution_count": 109,
      "outputs": []
    },
    {
      "cell_type": "markdown",
      "source": [
        "스마트 초기화는 초기 손실을 다음과 같이 상당히 줄임"
      ],
      "metadata": {
        "id": "GB2k1wfxUPDM"
      }
    },
    {
      "cell_type": "code",
      "source": [
        "output_layer = TokenOutput(tokenizer, banned_tokens=('', '[UNK]', '[START]'))\n",
        "# This might run a little faster if the dataset didn't also have to load the image data.\n",
        "output_layer.adapt(train_ds.map(lambda inputs, labels: labels))"
      ],
      "metadata": {
        "id": "KJardcKHUR_n",
        "outputId": "a326154e-14fe-42d4-b445-5e47a3a90f30",
        "colab": {
          "base_uri": "https://localhost:8080/"
        }
      },
      "execution_count": 110,
      "outputs": [
        {
          "output_type": "stream",
          "name": "stderr",
          "text": [
            "100%|██████████| 938/938 [00:13<00:00, 71.22it/s]"
          ]
        },
        {
          "output_type": "stream",
          "name": "stdout",
          "text": [
            "\n",
            "Uniform entropy: 8.52\n",
            "Marginal entropy: 5.29\n"
          ]
        },
        {
          "output_type": "stream",
          "name": "stderr",
          "text": [
            "\n"
          ]
        }
      ]
    },
    {
      "cell_type": "markdown",
      "source": [
        "## 모델 빌드하기"
      ],
      "metadata": {
        "id": "mQo_pRJxUm-x"
      }
    },
    {
      "cell_type": "markdown",
      "source": [
        "모델을 빌드하려면 몇몇 부분을 조합\n",
        "1. 이미지 `feature_extractor` 및 텍스트 `tokenizer`\n",
        "2. 토큰 ID의 배치를 벡트 `(batch, sequence, channels)`로 변환하기 위한 `seq_embedding`레이어\n",
        "3. 텍스트 및 이미지 데이터를 처리할 `DecoderLayers`레이어의 스택\n",
        "4. 다음 단어가 무엇이어야 하는지에 대한 포인트별 예측을 반환하는 `output_layer`"
      ],
      "metadata": {
        "id": "F5DrLU5CUo2-"
      }
    },
    {
      "cell_type": "code",
      "source": [
        "class Captioner(tf.keras.Model):\n",
        "  @classmethod\n",
        "  def add_method(cls, fun):\n",
        "    setattr(cls, fun.__name__, fun)\n",
        "    return fun\n",
        "\n",
        "  def __init__(self, tokenizer, feature_extractor, output_layer, num_layers=1,\n",
        "               units=256, max_length=50, num_heads=1, dropout_rate=0.1):\n",
        "    super().__init__()\n",
        "    self.feature_extractor = feature_extractor\n",
        "    self.tokenizer = tokenizer\n",
        "    self.word_to_index = tf.keras.layers.StringLookup(\n",
        "        mask_token=\"\",\n",
        "        vocabulary=tokenizer.get_vocabulary())\n",
        "    self.index_to_word = tf.keras.layers.StringLookup(\n",
        "        mask_token=\"\",\n",
        "        vocabulary=tokenizer.get_vocabulary(),\n",
        "        invert=True)\n",
        "\n",
        "    self.seq_embedding = SeqEmbedding(\n",
        "        vocab_size=tokenizer.vocabulary_size(),\n",
        "        depth=units,\n",
        "        max_length=max_length)\n",
        "\n",
        "    self.decoder_layers = [\n",
        "        DecoderLayer(units, num_heads=num_heads, dropout_rate=dropout_rate)\n",
        "        for n in range(num_layers)]\n",
        "\n",
        "    self.output_layer = output_layer\n",
        ""
      ],
      "metadata": {
        "id": "W5FmOSTWU_Ab"
      },
      "execution_count": 111,
      "outputs": []
    },
    {
      "cell_type": "markdown",
      "source": [
        "훈련을 위해 모델을 호출하면 `image, txt`쌍을 수신\n",
        "이 함수를 더 유용하게 하려면\n",
        "\n",
        " * 이미지에 3개의 채널이 있다면 feature_extrator를 통해 실행, 그렇지 않으면 이미 실행된 것으로 가정\n",
        " * 텍스트에 dtype `tf.string`이 있다면 토크나이저를 통해 실행\n",
        "\n",
        "그런 다음 모델을 실행하는 것은 몇 단계만 수행하면 됨\n",
        "1. 추출된 이미지 특성을 평면화하여 디코더 레이어에 대한 입력이 될 수 있도록 함\n",
        "2. 토큰 임베딩 검색\n",
        "3. 이미지 특성 및 텍스트 임베딩에서 `DecoderLayer`의 스택 실행\n",
        "4. 출력 레이어를 실행하여 각 위치에서 다음 토큰을 예측"
      ],
      "metadata": {
        "id": "Az9g6sHJWHTl"
      }
    },
    {
      "cell_type": "code",
      "source": [
        "@Captioner.add_method\n",
        "def call(self, inputs):\n",
        "    image, txt = inputs\n",
        "\n",
        "    if image.shape[-1] == 3:\n",
        "      # Apply the feature-extractor, if you get an RGB image.\n",
        "      image = self.feature_extractor(image)\n",
        "\n",
        "    # Flatten the feature map\n",
        "    image = einops.rearrange(image, 'b h w c -> b (h w) c')\n",
        "\n",
        "\n",
        "    if txt.dtype == tf.string:\n",
        "      # Apply the tokenizer if you get string inputs.\n",
        "      txt = tokenizer(txt)\n",
        "\n",
        "    txt = self.seq_embedding(txt)\n",
        "\n",
        "    # Look at the image\n",
        "    for dec_layer in self.decoder_layers:\n",
        "      txt = dec_layer(inputs=(image, txt))\n",
        "\n",
        "    txt = self.output_layer(txt)\n",
        "\n",
        "    return txt"
      ],
      "metadata": {
        "id": "wuw2GljEUmGq"
      },
      "execution_count": 112,
      "outputs": []
    },
    {
      "cell_type": "code",
      "source": [
        "model = Captioner(tokenizer, feature_extractor=mobilenet, output_layer=output_layer,\n",
        "                  units=256, dropout_rate=0.5, num_layers=2, num_heads=2)"
      ],
      "metadata": {
        "id": "xTawW4IsUlsS"
      },
      "execution_count": 113,
      "outputs": []
    },
    {
      "cell_type": "markdown",
      "source": [
        "## 캡션 생성하기"
      ],
      "metadata": {
        "id": "fGWbd1CiXf5i"
      }
    },
    {
      "cell_type": "markdown",
      "source": [
        "훈련을 시작하기 전에, 코드를 약간 작성해 캡션을 생성\n",
        "이를 사용하여 훈련이 어떻게 진행되는지 확인\n",
        "\n",
        "다음과 같이 테스트 이미지 다운로드하여 시작"
      ],
      "metadata": {
        "id": "B_JjkUijXh4c"
      }
    },
    {
      "cell_type": "code",
      "source": [
        "image_url = 'https://tensorflow.org/images/surf.jpg'\n",
        "image_path = tf.keras.utils.get_file('surf.jpg', origin=image_url)\n",
        "image = load_image(image_path)"
      ],
      "metadata": {
        "id": "ocR5sN5eXo5R"
      },
      "execution_count": 114,
      "outputs": []
    },
    {
      "cell_type": "markdown",
      "source": [
        "이 모델로 이미지를 캡션하려면 다음을 수행\n",
        "\n",
        "* `img_features`추출\n",
        "* `[START]` 토큰으로 출력 토큰 목록 초기화\n",
        "* `img_features` 및 `tokens`를 보델로 전달\n",
        "\n",
        "    * 이는 로짓 목록 반환\n",
        "    * 이로한 로짓을 기반으로 다음 토큰 선택\n",
        "    * 토큰 목록에 이를 추가하고 루프 계속\n",
        "    * `'[END]'` 토큰이 생성되었다면 루프 탈출\n",
        "\n",
        "이를 위해 간단한 메서드 추가"
      ],
      "metadata": {
        "id": "RHzvmtrtX2lN"
      }
    },
    {
      "cell_type": "code",
      "source": [
        "@Captioner.add_method\n",
        "def simple_gen(self, image, temperature=1):\n",
        "  initial = self.word_to_index([['[START]']]) # (batch, sequence)\n",
        "  img_features = self.feature_extractor(image[tf.newaxis, ...])\n",
        "\n",
        "  tokens = initial # (batch, sequence)\n",
        "  for n in range(50):\n",
        "    preds = self((img_features, tokens)).numpy()  # (batch, sequence, vocab)\n",
        "    preds = preds[:,-1, :]  #(batch, vocab)\n",
        "    if temperature==0:\n",
        "        next = tf.argmax(preds, axis=-1)[:, tf.newaxis]  # (batch, 1)\n",
        "    else:\n",
        "        next = tf.random.categorical(preds/temperature, num_samples=1)  # (batch, 1)\n",
        "    tokens = tf.concat([tokens, next], axis=1) # (batch, sequence)\n",
        "\n",
        "    if next[0] == self.word_to_index('[END]'):\n",
        "      break\n",
        "  words = index_to_word(tokens[0, 1:-1])\n",
        "  result = tf.strings.reduce_join(words, axis=-1, separator=' ')\n",
        "  return result.numpy().decode()"
      ],
      "metadata": {
        "id": "n5Sejo4bYRY_"
      },
      "execution_count": 115,
      "outputs": []
    },
    {
      "cell_type": "markdown",
      "source": [
        "다음은 모델의 훈련되지 않은, 해당 이미지를 위해 생성된 일부 캡션으로 아직 의미가 그다지 없음"
      ],
      "metadata": {
        "id": "HS1Jgke4ZjFc"
      }
    },
    {
      "cell_type": "code",
      "source": [
        "for t in (0.0, 0.5, 1.0):\n",
        "  result = model.simple_gen(image, temperature=t)\n",
        "  print(result)"
      ],
      "metadata": {
        "id": "QM_ziIe0ZrfO",
        "outputId": "3dcbccf8-6337-4962-d6e6-a4882606500c",
        "colab": {
          "base_uri": "https://localhost:8080/"
        }
      },
      "execution_count": 116,
      "outputs": [
        {
          "output_type": "stream",
          "name": "stderr",
          "text": [
            "/usr/local/lib/python3.11/dist-packages/keras/src/ops/nn.py:907: UserWarning: You are using a softmax over axis 3 of a tensor of shape (1, 2, 1, 1). This axis has size 1. The softmax operation will always return the value 1, which is likely not what you intended. Did you mean to use a sigmoid instead?\n",
            "  warnings.warn(\n",
            "/usr/local/lib/python3.11/dist-packages/keras/src/layers/layer.py:393: UserWarning: `build()` was called on layer 'captioner_2', however the layer does not have a `build()` method implemented and it looks like it has unbuilt state. This will cause the layer to be marked as built, despite not being actually built, which may cause failures down the line. Make sure to implement a proper `build()` method.\n",
            "  warnings.warn(\n"
          ]
        },
        {
          "output_type": "stream",
          "name": "stdout",
          "text": [
            "a a END a END a END a END END END END a END END a END END a a END END END a a END a END a END a END END END a a a END END END END END END a END END END a END\n",
            "the a END in END man is a in END END a a END a END END a a END END camera in a END END down a white a the on a child a a grass END END END a END END the a a a END END\n",
            "at young in are a the filled a the from END parachute volleyball snowman in lake of in shirt dog a on dog motorcyclist first pylon END END ball a glasses bowl bikes is in white leaf people through jumps cellphone face END face fish restaurant END a a\n"
          ]
        }
      ]
    },
    {
      "cell_type": "markdown",
      "source": [
        "온도 매개변수를 통해 다음 세 모드 사이에 삽입 가능\n",
        "1. 그리디 디코딩(`temperature=0.0`) - 각 단계에서 가장 확률이 높은 다음 토큰 선택\n",
        "2. 로짓(`temperature=1.0`)에 따른 랜덤 샘플링\n",
        "3. 균일 랜덤 샘플링(`temperature >> 1.0`)\n",
        "\n",
        "모델이 훈련되지 않았고 빈도 기반 초기화를 사용하였으므로 '그리디'출력은 (우선)일반적으로 가장 일반적인 토큰인 `['a', '.', '[END]']` 만 포함"
      ],
      "metadata": {
        "id": "pBPawYCcZ3Pd"
      }
    },
    {
      "cell_type": "markdown",
      "source": [
        "# 훈련"
      ],
      "metadata": {
        "id": "ek47fJ5DaXub"
      }
    },
    {
      "cell_type": "markdown",
      "source": [
        "모델을 훈련하려면 몇몇 추가 컴포넌트 필요\n",
        "* 손실 및 메트릭\n",
        "* 옵티마이저\n",
        "* 선택적 콜백"
      ],
      "metadata": {
        "id": "lJtpdRZGaZBW"
      }
    },
    {
      "cell_type": "markdown",
      "source": [
        "## 손실 및 메트릭"
      ],
      "metadata": {
        "id": "XIZEqLD-albo"
      }
    },
    {
      "cell_type": "markdown",
      "source": [
        "다음은 마스킹 된 손실 및 정확성에 대한 구현\n",
        "손실에 대한 마스크 계산 시 `loss < 1e8` 주의\n",
        "이 항은 `banned_tokens`에 대한 인적이고 불가능할 정도로 높은 손실을 버림\n",
        "<!-- 무슨 의미? -->"
      ],
      "metadata": {
        "id": "-zyFLGO6ctNT"
      }
    },
    {
      "cell_type": "code",
      "source": [
        "# labels를 loss에서도 cast하는걸 추가했는데 이전에 따로 cast했던 것들 중 어떤거만 하면 되는지는 아직 모르곘음 (시간상전부돌리기엔자원부족)\n",
        "def masked_loss(labels, preds):\n",
        "  labels = tf.cast(labels, tf.int64)\n",
        "  loss = tf.nn.sparse_softmax_cross_entropy_with_logits(labels=labels,logits=preds)\n",
        "\n",
        "  mask = (labels != 0) & (loss < 1e8)\n",
        "  mask = tf.cast(mask, loss.dtype)\n",
        "\n",
        "  loss = loss*mask\n",
        "  loss = tf.reduce_sum(loss)/tf.reduce_sum(mask)\n",
        "  return loss\n",
        "\n",
        "def masked_acc(labels, preds):\n",
        "  mask = tf.cast(labels!=0, tf.float32)\n",
        "  preds = tf.argmax(preds, axis=-1)\n",
        "  labels = tf.cast(labels, tf.int64)\n",
        "  match = tf.cast(preds == labels, mask.dtype)\n",
        "  acc = tf.reduce_sum(match*mask)/tf.reduce_sum(mask)\n",
        "  return acc"
      ],
      "metadata": {
        "id": "5lcmthq2c5zJ"
      },
      "execution_count": 129,
      "outputs": []
    },
    {
      "cell_type": "markdown",
      "source": [
        "## 콜백"
      ],
      "metadata": {
        "id": "EHDjnwu5dowf"
      }
    },
    {
      "cell_type": "markdown",
      "source": [
        "훈련 중 피드백을 위해 `keras.callbacks.Callback`을 설정해 각 epoch의 끝에 서퍼 이미지에 대한 일부 캡션 생성"
      ],
      "metadata": {
        "id": "fvGyCAgjdqWG"
      }
    },
    {
      "cell_type": "code",
      "source": [
        "class GenerateText(tf.keras.callbacks.Callback):\n",
        "  def __init__(self):\n",
        "    image_url = 'https://tensorflow.org/images/surf.jpg'\n",
        "    image_path = tf.keras.utils.get_file('surf.jpg', origin=image_url)\n",
        "    self.image = load_image(image_path)\n",
        "\n",
        "  def on_epoch_end(self, epochs=None, logs=None):\n",
        "    print()\n",
        "    print()\n",
        "    for t in (0.0, 0.5, 1.0):\n",
        "      result = self.model.simple_gen(self.image, temperature=t)\n",
        "      print(result)\n",
        "    print()\n",
        "\n",
        "  @property\n",
        "  def model(self):\n",
        "    return self._model\n",
        "  @model.setter\n",
        "  def model(self, value):\n",
        "    # You can add validation here if needed\n",
        "    if not isinstance(value, tf.keras.Model): # Example validation\n",
        "        raise TypeError(\"Model must be a tf.keras.Model instance\")\n",
        "    self._model = value\n"
      ],
      "metadata": {
        "id": "I_5rPqYAdwwr"
      },
      "execution_count": 118,
      "outputs": []
    },
    {
      "cell_type": "markdown",
      "source": [
        "이는 첫 번째가 '그리디'인 이전과 같은 이전 예시와 같은 세 개의 출력 문자열을 생성하여 각 단계에서 로짓의 argmax 선택"
      ],
      "metadata": {
        "id": "1pZ0YC62eO3K"
      }
    },
    {
      "cell_type": "code",
      "source": [
        "g = GenerateText()\n",
        "g.model = model\n",
        "g.on_epoch_end(0)"
      ],
      "metadata": {
        "id": "ufng1p4seUkf",
        "outputId": "d218c4ba-1de5-4733-9159-0df508063755",
        "colab": {
          "base_uri": "https://localhost:8080/"
        }
      },
      "execution_count": 119,
      "outputs": [
        {
          "output_type": "stream",
          "name": "stdout",
          "text": [
            "\n",
            "\n",
            "a a END a END a END a END END END END a END END a END END a a END END END a a END a END a END a END END END a a a END END END END END END a END END END a END\n",
            "in a END a in END END a END a red END a END in a a on a on boy END a on and a a END in END the a the END three is the a END END END of a END a a in END on\n",
            "steel and rainbow backs swims two children END and players grass END chews dog the the car rodeo runs a to a crowd sitting sleds dogs down END a END tennis END thrown a two a and playing water young woman purple toy of boat racket on running ladies\n",
            "\n"
          ]
        }
      ]
    },
    {
      "cell_type": "markdown",
      "source": [
        "또한 `callbacks.EarlyStopping`을 사용하여 모델 과적합 방지"
      ],
      "metadata": {
        "id": "mDSXiHQpeYyW"
      }
    },
    {
      "cell_type": "code",
      "source": [
        "callbacks =[\n",
        "    GenerateText(),\n",
        "    tf.keras.callbacks.EarlyStopping(patience=5, restore_best_weights=True)\n",
        "]"
      ],
      "metadata": {
        "id": "ODdpoOiueeQa"
      },
      "execution_count": 120,
      "outputs": []
    },
    {
      "cell_type": "markdown",
      "source": [
        "## 훈련"
      ],
      "metadata": {
        "id": "NvrMiW_Memu8"
      }
    },
    {
      "cell_type": "markdown",
      "source": [
        "훈련을 구성하고 실행"
      ],
      "metadata": {
        "id": "GO335mv3eoOD"
      }
    },
    {
      "cell_type": "code",
      "source": [
        "#컴파일먼저 하고 fit 실행\n",
        "model.compile(optimizer=tf.keras.optimizers.Adam(learning_rate=1e-4), loss=masked_loss, metrics=[masked_acc])"
      ],
      "metadata": {
        "id": "0HV7BRLUepcq"
      },
      "execution_count": 131,
      "outputs": []
    },
    {
      "cell_type": "markdown",
      "source": [
        "빈도 보고를 더 많이 하려면, `Dataset.repeat()`메서드 사용, `steps_per_epoch`및`validation_steps`인수를 `Model.fit`으로 설정\n",
        "`Flicker8k`에서 이러한 설정을 통해 데이터세트에 대한 전체 전달은 배치가 900개 이상이지만\n",
        "보고-epoch 아래에는 100 단계가 있음\n",
        "<!-- ???? -->"
      ],
      "metadata": {
        "id": "ATWtGN4We0E5"
      }
    },
    {
      "cell_type": "code",
      "source": [
        "history = model.fit(\n",
        "    train_ds.repeat(),\n",
        "    steps_per_epoch=100,\n",
        "    validation_data=test_ds.repeat(),\n",
        "    validation_steps=20,\n",
        "    epochs=100,\n",
        "    callbacks=callbacks)"
      ],
      "metadata": {
        "id": "bU9aI2aUfLAJ",
        "outputId": "705a8ff5-568a-450a-f474-dba2184f3dfd",
        "colab": {
          "base_uri": "https://localhost:8080/"
        }
      },
      "execution_count": 132,
      "outputs": [
        {
          "output_type": "stream",
          "name": "stdout",
          "text": [
            "Epoch 1/100\n",
            "\u001b[1m100/100\u001b[0m \u001b[32m━━━━━━━━━━━━━━━━━━━━\u001b[0m\u001b[37m\u001b[0m \u001b[1m0s\u001b[0m 35ms/step - loss: 5.0725 - masked_acc: 0.1847\n",
            "\n"
          ]
        },
        {
          "output_type": "stream",
          "name": "stderr",
          "text": [
            "/usr/local/lib/python3.11/dist-packages/keras/src/ops/nn.py:907: UserWarning: You are using a softmax over axis 3 of a tensor of shape (1, 2, 1, 1). This axis has size 1. The softmax operation will always return the value 1, which is likely not what you intended. Did you mean to use a sigmoid instead?\n",
            "  warnings.warn(\n"
          ]
        },
        {
          "output_type": "stream",
          "name": "stdout",
          "text": [
            "a man in a man in the water END END END END END END END END END END END END END END END END END END END END END END END END END END END END END END END END END END END END END END END END END\n",
            "a man on a ball END END END in a man END END END END on a holding END END in a END END END END END END END END END END END END END END END END END END in the is END END END in a white\n",
            "grass END front in rollerblades on slip with the dirt END END on sit END END in the lot in man green in blonde END END water fingers END little ball different woman END climbing with woman water END some concrete END END END END END in carved out\n",
            "\n",
            "\u001b[1m100/100\u001b[0m \u001b[32m━━━━━━━━━━━━━━━━━━━━\u001b[0m\u001b[37m\u001b[0m \u001b[1m27s\u001b[0m 164ms/step - loss: 5.0707 - masked_acc: 0.1850 - val_loss: 4.5031 - val_masked_acc: 0.2577\n",
            "Epoch 2/100\n",
            "\u001b[1m100/100\u001b[0m \u001b[32m━━━━━━━━━━━━━━━━━━━━\u001b[0m\u001b[37m\u001b[0m \u001b[1m0s\u001b[0m 38ms/step - loss: 4.4812 - masked_acc: 0.2723\n",
            "\n",
            "a man in a red in the water END END END END END END END END END END END END END END END END END END END END in the water END END END in a water END END END END END END END in the water END END\n",
            "a man is black END in the water END END END END END END END END END END END END END END in the snow END END END in the water END in the water END in the of a child END END END END walks END in the\n",
            "painted down at dog is up while truck pyramidshaped with a car END in her END END ice two stunt END another man in two END net END END and a person puck face and wrestle in the grass small red players END worker dock END sits street ends\n",
            "\n",
            "\u001b[1m100/100\u001b[0m \u001b[32m━━━━━━━━━━━━━━━━━━━━\u001b[0m\u001b[37m\u001b[0m \u001b[1m20s\u001b[0m 205ms/step - loss: 4.4806 - masked_acc: 0.2723 - val_loss: 4.2649 - val_masked_acc: 0.2835\n",
            "Epoch 3/100\n",
            "\u001b[1m100/100\u001b[0m \u001b[32m━━━━━━━━━━━━━━━━━━━━\u001b[0m\u001b[37m\u001b[0m \u001b[1m0s\u001b[0m 35ms/step - loss: 4.2725 - masked_acc: 0.2961\n",
            "\n",
            "a man in a red shirt is in the water END END END END END END END END END END END END END END END END in the water END END END in the water END in the water END END END END END in the water END END\n",
            "a man in a red shirt is playing the water END END in the snow END END END END END END END END END END END in the snow END END END END is jumping END END in the water END a large young girl in a red and\n",
            "colored at pair one into a board with his comes grocery uniforms END END in a multicolored lot END through grass END END a clothes END in a man in the two a in trail END edge car END END END END END is stand END END for barefooted\n",
            "\n",
            "\u001b[1m100/100\u001b[0m \u001b[32m━━━━━━━━━━━━━━━━━━━━\u001b[0m\u001b[37m\u001b[0m \u001b[1m15s\u001b[0m 153ms/step - loss: 4.2719 - masked_acc: 0.2962 - val_loss: 4.1084 - val_masked_acc: 0.3046\n",
            "Epoch 4/100\n",
            "\u001b[1m 99/100\u001b[0m \u001b[32m━━━━━━━━━━━━━━━━━━━\u001b[0m\u001b[37m━\u001b[0m \u001b[1m0s\u001b[0m 40ms/step - loss: 4.0508 - masked_acc: 0.3161\n",
            "\n",
            "a man in a red shirt is in the water END END END END END END END END END END END END END END END END END END END END END END END END in a in the water END END END END END END END END END END\n",
            "a man in the water END in the water END END END END END END END END END END END END END END END END END END END END END and a green in a beach END END END END END in the water END END END in the\n",
            "a teeth runs while a fish street END to in the END END waits END END muzzle END END END END END END END END on the water END END dress END END in front of player rides out END in the woman arts END END END in mouth\n",
            "\n",
            "\u001b[1m100/100\u001b[0m \u001b[32m━━━━━━━━━━━━━━━━━━━━\u001b[0m\u001b[37m\u001b[0m \u001b[1m16s\u001b[0m 158ms/step - loss: 4.0505 - masked_acc: 0.3161 - val_loss: 3.8951 - val_masked_acc: 0.3208\n",
            "Epoch 5/100\n",
            "\u001b[1m100/100\u001b[0m \u001b[32m━━━━━━━━━━━━━━━━━━━━\u001b[0m\u001b[37m\u001b[0m \u001b[1m0s\u001b[0m 36ms/step - loss: 3.9742 - masked_acc: 0.3240\n",
            "\n",
            "a man in a blue shirt is in the water END END END END END END END END END END END END END END END END END END END END END END in the water END in the water END END END END END END END END in the\n",
            "a man is in the water END END in the water END END END END END END END END END END END END with a pool END END END END END END in the rock END END in a the water END END END END END in the ocean\n",
            "a boy jumping long to water END into polo man in the ski straw in pool END END END END END END END as glasses while END at a open field in blue water END END man in front of the dog END near the pool END catch he\n",
            "\n",
            "\u001b[1m100/100\u001b[0m \u001b[32m━━━━━━━━━━━━━━━━━━━━\u001b[0m\u001b[37m\u001b[0m \u001b[1m20s\u001b[0m 206ms/step - loss: 3.9740 - masked_acc: 0.3240 - val_loss: 3.7682 - val_masked_acc: 0.3359\n",
            "Epoch 6/100\n",
            "\u001b[1m100/100\u001b[0m \u001b[32m━━━━━━━━━━━━━━━━━━━━\u001b[0m\u001b[37m\u001b[0m \u001b[1m0s\u001b[0m 41ms/step - loss: 3.8924 - masked_acc: 0.3333\n",
            "\n",
            "a man in a blue shirt is in the water END END END END END END END END END END END END END END END END END END in the water END in the water END in the water END END END END END END END END in the\n",
            "a man in the water END in the water END END END END END END END END END END END in the air END END END END END END END END END END END in a a blue water END END END END END END END END a water\n",
            "a man in the children in black funny one in her mouth END flying noses and the background face END in END beak next to the water END water END ball END standing the blue END planeta END and he running in water END people play along a tree\n",
            "\n",
            "\u001b[1m100/100\u001b[0m \u001b[32m━━━━━━━━━━━━━━━━━━━━\u001b[0m\u001b[37m\u001b[0m \u001b[1m16s\u001b[0m 159ms/step - loss: 3.8921 - masked_acc: 0.3333 - val_loss: 3.7339 - val_masked_acc: 0.3289\n",
            "Epoch 7/100\n",
            "\u001b[1m100/100\u001b[0m \u001b[32m━━━━━━━━━━━━━━━━━━━━\u001b[0m\u001b[37m\u001b[0m \u001b[1m0s\u001b[0m 34ms/step - loss: 3.7424 - masked_acc: 0.3484\n",
            "\n",
            "a man in a blue shirt is in the water END END END END END END END END END END END END END END END END END END END END END END END END in a pool END END END END END END END END END END END END\n",
            "a man in a blue and a wave END END in the water END in the water END END END END END END END END END END END END END END END in the snow END END END END END END END END END END END END END END\n",
            "a woman does snow in front of a swim walks by water END END END with snow END END END snow END END END on a man END END END outside mouth on up bridge END a pool holding holding ocean END water with a jumps by tshirt with\n",
            "\n",
            "\u001b[1m100/100\u001b[0m \u001b[32m━━━━━━━━━━━━━━━━━━━━\u001b[0m\u001b[37m\u001b[0m \u001b[1m20s\u001b[0m 206ms/step - loss: 3.7422 - masked_acc: 0.3484 - val_loss: 3.6222 - val_masked_acc: 0.3491\n",
            "Epoch 8/100\n",
            "\u001b[1m 99/100\u001b[0m \u001b[32m━━━━━━━━━━━━━━━━━━━\u001b[0m\u001b[37m━\u001b[0m \u001b[1m0s\u001b[0m 41ms/step - loss: 3.6796 - masked_acc: 0.3525\n",
            "\n",
            "a man in a blue shirt is jumping in the water END END END END END END END END END END END END END END END END END END END END END END END in a pool END END END END END END END END END END END END\n",
            "a young man is holding in the water END and a wave END in the pool END END END END END END END END END END END END END END END END END END in a END END END END END END END END END END in a pool\n",
            "child sitting wearing glasses on a snowy wall END END from sunset END background END END END END END END END END of a ages in her valley END or beside a player END innertube END in grassy pool END bound climbing that near the snow END over the\n",
            "\n",
            "\u001b[1m100/100\u001b[0m \u001b[32m━━━━━━━━━━━━━━━━━━━━\u001b[0m\u001b[37m\u001b[0m \u001b[1m21s\u001b[0m 207ms/step - loss: 3.6795 - masked_acc: 0.3525 - val_loss: 3.5968 - val_masked_acc: 0.3547\n",
            "Epoch 9/100\n",
            "\u001b[1m 99/100\u001b[0m \u001b[32m━━━━━━━━━━━━━━━━━━━\u001b[0m\u001b[37m━\u001b[0m \u001b[1m0s\u001b[0m 35ms/step - loss: 3.6094 - masked_acc: 0.3504\n",
            "\n",
            "a man in a red shirt is jumping in the water END END END END END END END END END END END END END END END END END END END END END END END END END END END END END END END END END END END END END END\n",
            "the man in a red rides a pool END END END END END END END END END END END END END END to the water END END END END END END END END END END END in the water END END END END END END in the water END\n",
            "a greyhound wave in a yellow blue pink and doing a peeks END looking at to at the raft END END END in a in ball END into a snow END END pool END his clothing END each case covered ocean END END END END END END and kid\n",
            "\n",
            "\u001b[1m100/100\u001b[0m \u001b[32m━━━━━━━━━━━━━━━━━━━━\u001b[0m\u001b[37m\u001b[0m \u001b[1m16s\u001b[0m 162ms/step - loss: 3.6092 - masked_acc: 0.3505 - val_loss: 3.5093 - val_masked_acc: 0.3566\n",
            "Epoch 10/100\n",
            "\u001b[1m100/100\u001b[0m \u001b[32m━━━━━━━━━━━━━━━━━━━━\u001b[0m\u001b[37m\u001b[0m \u001b[1m0s\u001b[0m 40ms/step - loss: 3.5422 - masked_acc: 0.3610\n",
            "\n",
            "a man in a blue shirt is in a pool END END END END END END END END END END END END END END END END END END END END END END END END in a pool END END END END END END END END END END END END\n",
            "a man in a blue shirt is swimming in a pool END END END in the water END END END END END END END END END END END END END END END END END END END END in the water END END END END END END END END in\n",
            "a child is standing over a pool on a rope wearing his snowboard END at a the snowball END END END END in a dirt END with his side END in a table in a jet with her a water END with a blue horse plays on a of\n",
            "\n",
            "\u001b[1m100/100\u001b[0m \u001b[32m━━━━━━━━━━━━━━━━━━━━\u001b[0m\u001b[37m\u001b[0m \u001b[1m16s\u001b[0m 156ms/step - loss: 3.5419 - masked_acc: 0.3610 - val_loss: 3.5435 - val_masked_acc: 0.3441\n",
            "Epoch 11/100\n",
            "\u001b[1m100/100\u001b[0m \u001b[32m━━━━━━━━━━━━━━━━━━━━\u001b[0m\u001b[37m\u001b[0m \u001b[1m0s\u001b[0m 33ms/step - loss: 3.4262 - masked_acc: 0.3689\n",
            "\n",
            "a man in a blue shirt is jumping over a pool END END END END END END END END END END END END END END END END END END END END END END END in a pool END END END END END END END END END END END END\n",
            "a man in a red shirt is sliding down a pool END END END END END END END END END END END END END END END END END END END END END END END in a pool END END END END END END END END END END END in\n",
            "child in black pool with glasses pose on his basketball though water END in the water city rope END END END END END END END END carrying END shaking END END alone in the air END END is wave END END END END covered pool END ocean END goalie\n",
            "\n",
            "\u001b[1m100/100\u001b[0m \u001b[32m━━━━━━━━━━━━━━━━━━━━\u001b[0m\u001b[37m\u001b[0m \u001b[1m15s\u001b[0m 150ms/step - loss: 3.4264 - masked_acc: 0.3689 - val_loss: 3.4217 - val_masked_acc: 0.3596\n",
            "Epoch 12/100\n",
            "\u001b[1m100/100\u001b[0m \u001b[32m━━━━━━━━━━━━━━━━━━━━\u001b[0m\u001b[37m\u001b[0m \u001b[1m0s\u001b[0m 33ms/step - loss: 3.4268 - masked_acc: 0.3671\n",
            "\n",
            "a man in a blue shirt is in a pool END END END END END END END END END END END END END END END END END END END END END END END END in a wave END END END END END END END END END END END END\n",
            "a man in a blue shirt is in a pool END END END END END END END END END END in the water END END END END END END END END END a pool END END in the water END END END END END END END END END END\n",
            "the boy surfing logo down a boat END END END of water as some into the swimming END END in the stick END END at the man in balloon into the ocean in the half END END water at the water END fountain in wave END END END of\n",
            "\n",
            "\u001b[1m100/100\u001b[0m \u001b[32m━━━━━━━━━━━━━━━━━━━━\u001b[0m\u001b[37m\u001b[0m \u001b[1m20s\u001b[0m 205ms/step - loss: 3.4263 - masked_acc: 0.3672 - val_loss: 3.3793 - val_masked_acc: 0.3602\n",
            "Epoch 13/100\n",
            "\u001b[1m 99/100\u001b[0m \u001b[32m━━━━━━━━━━━━━━━━━━━\u001b[0m\u001b[37m━\u001b[0m \u001b[1m0s\u001b[0m 33ms/step - loss: 3.3914 - masked_acc: 0.3726\n",
            "\n",
            "a man in a blue shirt is in a pool END END END END END END END END END END END END END END END END END END END END END END END END in a wave END END END END END END END END END END END END\n",
            "the boy is in the wave END END END in the wave END END END END END END END END END END END END END END END END END END END END END END in a pool END END END END END END END END END END END END\n",
            "a and girl is surfing the wave into the a swimming in front of water END course END END END END END END END towards a blue and near END and long green camera END END gliding down down a beam above of a wave END in a frisbee\n",
            "\n",
            "\u001b[1m100/100\u001b[0m \u001b[32m━━━━━━━━━━━━━━━━━━━━\u001b[0m\u001b[37m\u001b[0m \u001b[1m15s\u001b[0m 152ms/step - loss: 3.3908 - masked_acc: 0.3727 - val_loss: 3.3097 - val_masked_acc: 0.3744\n",
            "Epoch 14/100\n",
            "\u001b[1m 99/100\u001b[0m \u001b[32m━━━━━━━━━━━━━━━━━━━\u001b[0m\u001b[37m━\u001b[0m \u001b[1m0s\u001b[0m 34ms/step - loss: 3.3136 - masked_acc: 0.3797\n",
            "\n",
            "a man in a blue shirt is in a wave END END END END END END END END END END END END END END END END END END END END END END END END END END END END END END END END END END END END END END END\n",
            "a man sits on a wave END in the water END END END END END END END END END END END END END END END END END END END END END in the ocean END END END END END END END END END END END END END END END\n",
            "the splashes in the water END END END END in the wave END against a green game END END with the purple near on END END END and blonde in get END END END and young man wearing a surfboard turned cheek END up in a two slide END\n",
            "\n",
            "\u001b[1m100/100\u001b[0m \u001b[32m━━━━━━━━━━━━━━━━━━━━\u001b[0m\u001b[37m\u001b[0m \u001b[1m15s\u001b[0m 151ms/step - loss: 3.3138 - masked_acc: 0.3797 - val_loss: 3.3160 - val_masked_acc: 0.3704\n",
            "Epoch 15/100\n",
            "\u001b[1m100/100\u001b[0m \u001b[32m━━━━━━━━━━━━━━━━━━━━\u001b[0m\u001b[37m\u001b[0m \u001b[1m0s\u001b[0m 34ms/step - loss: 3.3133 - masked_acc: 0.3750\n",
            "\n",
            "a man in a red shirt is in a pool END END END END END END END END END END END END END END END END END END END END END END END END in a wave END END END END END END END END END END END END\n",
            "a person in a blue boat in the water END END END END END END END END in the water END END END END END END END END END END END END END END in the water END END END END END END in the water END END END\n",
            "kids through orange swimming of water END wave high surfer into END END END END END END END END in their digital ocean END END END END END END END END END of END while in the the water END END END with small water END on his people\n",
            "\n",
            "\u001b[1m100/100\u001b[0m \u001b[32m━━━━━━━━━━━━━━━━━━━━\u001b[0m\u001b[37m\u001b[0m \u001b[1m20s\u001b[0m 205ms/step - loss: 3.3133 - masked_acc: 0.3751 - val_loss: 3.3783 - val_masked_acc: 0.3603\n",
            "Epoch 16/100\n",
            "\u001b[1m100/100\u001b[0m \u001b[32m━━━━━━━━━━━━━━━━━━━━\u001b[0m\u001b[37m\u001b[0m \u001b[1m0s\u001b[0m 33ms/step - loss: 3.2803 - masked_acc: 0.3864\n",
            "\n",
            "a man in a red shirt is swimming in a pool END END END END END END END END END END END END END END END END END END END END END END END in a wave END END END END END END END END END END END END\n",
            "a man in a red shirt is in a pool END in the water END END END END END END END END END END END END END END END END END END in the water END END into a pool END END END END in the water from a\n",
            "a in pink another surfer is sitting on a surfboard END in a pool stands rides through the water leaping END girl END END END END swimmer to costume END eight END END END covering on END in the water END through the surfer END elaborate surfboard END water\n",
            "\n",
            "\u001b[1m100/100\u001b[0m \u001b[32m━━━━━━━━━━━━━━━━━━━━\u001b[0m\u001b[37m\u001b[0m \u001b[1m20s\u001b[0m 206ms/step - loss: 3.2802 - masked_acc: 0.3864 - val_loss: 3.3093 - val_masked_acc: 0.3694\n",
            "Epoch 17/100\n",
            "\u001b[1m 99/100\u001b[0m \u001b[32m━━━━━━━━━━━━━━━━━━━\u001b[0m\u001b[37m━\u001b[0m \u001b[1m0s\u001b[0m 34ms/step - loss: 3.2108 - masked_acc: 0.3864\n",
            "\n",
            "a man in a blue shirt is in a pool END END END END END END END END END END END END END END END END END END END END END END END END in a wave END END END END END END END END END END END END\n",
            "a man in a blue shirt is climbing a wave END END END END END END END END END END END END END in the water END END END END END END END END END END END END END END END END END END in the water END in\n",
            "shirt and white dog around another wave END whilst down the beach END END END END in the ocean END END END END END in the wave END END END END a kayak END END in the ocean while riding a wave END in the ocean END digging through\n",
            "\n",
            "\u001b[1m100/100\u001b[0m \u001b[32m━━━━━━━━━━━━━━━━━━━━\u001b[0m\u001b[37m\u001b[0m \u001b[1m20s\u001b[0m 206ms/step - loss: 3.2106 - masked_acc: 0.3864 - val_loss: 3.2036 - val_masked_acc: 0.3763\n",
            "Epoch 18/100\n",
            "\u001b[1m100/100\u001b[0m \u001b[32m━━━━━━━━━━━━━━━━━━━━\u001b[0m\u001b[37m\u001b[0m \u001b[1m0s\u001b[0m 39ms/step - loss: 3.1753 - masked_acc: 0.3892\n",
            "\n",
            "a man in a red shirt is in a wave END END END END END END END END END END END END END END END END END END END END END END END END in a wave END END END END END END END END END END END END\n",
            "a man in a brown shirt is in a wave END END END END in the water END END END END END END END END END END END END END END END END in a wave END END END END END END END END in the water END END\n",
            "the child holding a dirt wave beside the water while the water END END END END END END in the wings looks up END END END END END END END END END END END in his lot END END END END END END END END to the in the\n",
            "\n",
            "\u001b[1m100/100\u001b[0m \u001b[32m━━━━━━━━━━━━━━━━━━━━\u001b[0m\u001b[37m\u001b[0m \u001b[1m20s\u001b[0m 203ms/step - loss: 3.1752 - masked_acc: 0.3892 - val_loss: 3.1304 - val_masked_acc: 0.3924\n",
            "Epoch 19/100\n",
            "\u001b[1m 99/100\u001b[0m \u001b[32m━━━━━━━━━━━━━━━━━━━\u001b[0m\u001b[37m━\u001b[0m \u001b[1m0s\u001b[0m 39ms/step - loss: 3.1526 - masked_acc: 0.3954\n",
            "\n",
            "a man in a red shirt is riding a wave END END END END END END END END END END END END END END END END END END END END END END END END in a wave END END END END END END END END END END END END\n",
            "a surfer is surfing on a wave END END in the water END END END END END END END END END END END END END END END END END END END END END END in the wave END END END END END END END in the water END END\n",
            "a white man is swimming pool taking a in its gear END END END END into a into the pool END END END END END END in the distance END END END END END in a water END END girl walk them END END END wave END END END\n",
            "\n",
            "\u001b[1m100/100\u001b[0m \u001b[32m━━━━━━━━━━━━━━━━━━━━\u001b[0m\u001b[37m\u001b[0m \u001b[1m16s\u001b[0m 164ms/step - loss: 3.1520 - masked_acc: 0.3954 - val_loss: 3.1780 - val_masked_acc: 0.3814\n",
            "Epoch 20/100\n",
            "\u001b[1m 99/100\u001b[0m \u001b[32m━━━━━━━━━━━━━━━━━━━\u001b[0m\u001b[37m━\u001b[0m \u001b[1m0s\u001b[0m 38ms/step - loss: 3.0266 - masked_acc: 0.4031\n",
            "\n",
            "a surfer in a red shirt is in a wave END END END END END END END END END END END END END END END END END END END END END END END END END END END END END END END END END END END END END END END\n",
            "a surfer in a red shirt is jumps into a wave END END END END END END END END END END END END END END END END in END END END END END END END END END END END END END END END END END END END END END\n",
            "a plays in a person in a wave END END END END END END END END END END trying to water END END END END END END END END END END END END END END END END END END END small wave END END END END END in retrieve\n",
            "\n",
            "\u001b[1m100/100\u001b[0m \u001b[32m━━━━━━━━━━━━━━━━━━━━\u001b[0m\u001b[37m\u001b[0m \u001b[1m15s\u001b[0m 151ms/step - loss: 3.0264 - masked_acc: 0.4031 - val_loss: 3.1481 - val_masked_acc: 0.3812\n",
            "Epoch 21/100\n",
            "\u001b[1m100/100\u001b[0m \u001b[32m━━━━━━━━━━━━━━━━━━━━\u001b[0m\u001b[37m\u001b[0m \u001b[1m0s\u001b[0m 37ms/step - loss: 3.0243 - masked_acc: 0.4103\n",
            "\n",
            "a man in a red shirt is riding a wave END END END END END END END END END END END END END END END END END END END END END END END END END END END END END END END END END END END END END END END\n",
            "a surfer on a surfboard END END END END END END END END END END END END END END END END END END END END END END END END END END END END END END END END END END END END END END END END END END END END\n",
            "a man on the water and one is sidewalk END in a wave END in the air END END END END END END END END END in it END END END END END END END END END in the surfboard in the pool END END END END front of\n",
            "\n",
            "\u001b[1m100/100\u001b[0m \u001b[32m━━━━━━━━━━━━━━━━━━━━\u001b[0m\u001b[37m\u001b[0m \u001b[1m17s\u001b[0m 174ms/step - loss: 3.0244 - masked_acc: 0.4102 - val_loss: 3.1713 - val_masked_acc: 0.3798\n",
            "Epoch 22/100\n",
            "\u001b[1m100/100\u001b[0m \u001b[32m━━━━━━━━━━━━━━━━━━━━\u001b[0m\u001b[37m\u001b[0m \u001b[1m0s\u001b[0m 34ms/step - loss: 3.0122 - masked_acc: 0.4049\n",
            "\n",
            "a surfer is riding a wave END in the water END END END END END END END END END END END END END END END END END END END END END END END END END END END END END END END END END END END END END END END\n",
            "the surfer is riding a wave END END END END in the ocean END END END END END END END END END END END END END END END END END END END END in a blue END END END END END END END END END END END END END\n",
            "a surfer is playing while he walking in a swimming pool END that is laying on the golden red a skateboard END END END END END END END that has man END END END of on END END end beach END girl racing where snowcovered to climb swimming pool\n",
            "\n",
            "\u001b[1m100/100\u001b[0m \u001b[32m━━━━━━━━━━━━━━━━━━━━\u001b[0m\u001b[37m\u001b[0m \u001b[1m18s\u001b[0m 184ms/step - loss: 3.0123 - masked_acc: 0.4049 - val_loss: 3.1926 - val_masked_acc: 0.3742\n",
            "Epoch 23/100\n",
            "\u001b[1m 99/100\u001b[0m \u001b[32m━━━━━━━━━━━━━━━━━━━\u001b[0m\u001b[37m━\u001b[0m \u001b[1m0s\u001b[0m 39ms/step - loss: 3.0324 - masked_acc: 0.3995\n",
            "\n",
            "a man in a red shirt is in a wave END END END END END END END END END END END END END END END END END END END END END END END END END END END END END END END END END END END END END END END\n",
            "a surfboard in a wave END in the ocean END END END END END END END END END END END END END END END END END END END in the water END END END END END END END END END END END END END END END END END END\n",
            "a man flying in the ocean surfer is riding in the wave END END END END END END END END in a swimming END END END END END END END END END END END END END in a country END END END END with the surf END END in\n",
            "\n",
            "\u001b[1m100/100\u001b[0m \u001b[32m━━━━━━━━━━━━━━━━━━━━\u001b[0m\u001b[37m\u001b[0m \u001b[1m15s\u001b[0m 156ms/step - loss: 3.0319 - masked_acc: 0.3996 - val_loss: 3.1001 - val_masked_acc: 0.3830\n",
            "Epoch 24/100\n",
            "\u001b[1m 99/100\u001b[0m \u001b[32m━━━━━━━━━━━━━━━━━━━\u001b[0m\u001b[37m━\u001b[0m \u001b[1m0s\u001b[0m 34ms/step - loss: 2.9949 - masked_acc: 0.4060\n",
            "\n",
            "a surfer in a red jacket is in a wave END END END END END END END END END END END END END END END END END END END END END END END END END END END END END END END END END END END END END END END\n",
            "a man wearing a red helmet is jumping into a pool END END END END END END END END END END END END END END END END END END END END END END END END END END END END END END END END END END END END END END\n",
            "in pool END END towards there is in the air END END END END END END END END END END END END END END END END END END END END END it END END wave END END END END END END and child END END near a santa looks\n",
            "\n",
            "\u001b[1m100/100\u001b[0m \u001b[32m━━━━━━━━━━━━━━━━━━━━\u001b[0m\u001b[37m\u001b[0m \u001b[1m18s\u001b[0m 184ms/step - loss: 2.9943 - masked_acc: 0.4060 - val_loss: 3.0759 - val_masked_acc: 0.3892\n",
            "Epoch 25/100\n",
            "\u001b[1m 99/100\u001b[0m \u001b[32m━━━━━━━━━━━━━━━━━━━\u001b[0m\u001b[37m━\u001b[0m \u001b[1m0s\u001b[0m 47ms/step - loss: 2.9796 - masked_acc: 0.4116\n",
            "\n",
            "a surfer in a red and white wetsuit is swimming in a pool END END END END END END END END END END END END END END END END END END END END END in a wave END END END END END END END END END END END END\n",
            "a surfer in a red wetsuit is in a child and wave END END END END END END END END END END END END END END in the ocean END END END END END in a wave END END END END END END END END END END through the\n",
            "surfer play with a player splashing in the water END END END END their hand of the ocean END that END behind END END END END END END END riding his bread END END in the wave happily END END END and mask END END END END water END\n",
            "\n",
            "\u001b[1m100/100\u001b[0m \u001b[32m━━━━━━━━━━━━━━━━━━━━\u001b[0m\u001b[37m\u001b[0m \u001b[1m19s\u001b[0m 196ms/step - loss: 2.9795 - masked_acc: 0.4115 - val_loss: 3.0348 - val_masked_acc: 0.3874\n",
            "Epoch 26/100\n",
            "\u001b[1m 99/100\u001b[0m \u001b[32m━━━━━━━━━━━━━━━━━━━\u001b[0m\u001b[37m━\u001b[0m \u001b[1m0s\u001b[0m 37ms/step - loss: 2.9384 - masked_acc: 0.4119\n",
            "\n",
            "a surfer in a red and yellow shirt is swimming END END END END END END END END END END END END END END END END END END END END END END END END END END END END END END END END END END END END END END END\n",
            "a man is in a blue wetsuit is doing a in the ocean END END END END END END END END END END END END END END END END END END END END END in the ocean END END END END END END and is in a yellow and\n",
            "two children playing in the wave END END foggy water END END END END END END END END END wave END END END END END END END END END END END END END END and tubular END s pool END END around into the blue shorts in an event\n",
            "\n",
            "\u001b[1m100/100\u001b[0m \u001b[32m━━━━━━━━━━━━━━━━━━━━\u001b[0m\u001b[37m\u001b[0m \u001b[1m20s\u001b[0m 205ms/step - loss: 2.9381 - masked_acc: 0.4119 - val_loss: 3.0524 - val_masked_acc: 0.3944\n",
            "Epoch 27/100\n",
            "\u001b[1m100/100\u001b[0m \u001b[32m━━━━━━━━━━━━━━━━━━━━\u001b[0m\u001b[37m\u001b[0m \u001b[1m0s\u001b[0m 41ms/step - loss: 2.9403 - masked_acc: 0.4120\n",
            "\n",
            "a man in a red and white wetsuit is swimming in the ocean END END END END END END END END END END END END END END END END END END END END END in a wave END END END END END END END END END END END END\n",
            "a man in a red and white surfboard in the ocean END END END END END END END END END END END END END END END END END END END END END END END in a lake END END END END END END END END END END END END\n",
            "a man rides a wave END behind her END END through the ocean END with it END END END in the ocean END END END END END END with it END END END END in the wave on his kid as a climber END END END END puts looking\n",
            "\n",
            "\u001b[1m100/100\u001b[0m \u001b[32m━━━━━━━━━━━━━━━━━━━━\u001b[0m\u001b[37m\u001b[0m \u001b[1m19s\u001b[0m 191ms/step - loss: 2.9401 - masked_acc: 0.4121 - val_loss: 3.0502 - val_masked_acc: 0.3862\n",
            "Epoch 28/100\n",
            "\u001b[1m100/100\u001b[0m \u001b[32m━━━━━━━━━━━━━━━━━━━━\u001b[0m\u001b[37m\u001b[0m \u001b[1m0s\u001b[0m 38ms/step - loss: 2.9716 - masked_acc: 0.4072\n",
            "\n",
            "a man in a red shirt is riding a wave END END END END END END END END END END END END END END END END END END END END END END END END END END END END END END END END END END END END END END END\n",
            "the man is in the water END END in the wave END END END END END END END END END END END END END END END END END END END END END END END in the water END END END END END END END END END END END END\n",
            "young man is going downhill END above the surfboard END END END END END END END END END END END END END END water END END END as it END END END and END behind him END END END END END in a the surf in a stick in\n",
            "\n",
            "\u001b[1m100/100\u001b[0m \u001b[32m━━━━━━━━━━━━━━━━━━━━\u001b[0m\u001b[37m\u001b[0m \u001b[1m18s\u001b[0m 180ms/step - loss: 2.9712 - masked_acc: 0.4072 - val_loss: 3.0338 - val_masked_acc: 0.3905\n",
            "Epoch 29/100\n",
            "\u001b[1m 99/100\u001b[0m \u001b[32m━━━━━━━━━━━━━━━━━━━\u001b[0m\u001b[37m━\u001b[0m \u001b[1m0s\u001b[0m 46ms/step - loss: 2.8387 - masked_acc: 0.4189\n",
            "\n",
            "a man in a red and white wetsuit is surfing END END END in the ocean END END END END END END END END END END END END END END END END END END in a wave END END END END END END END END END END END END\n",
            "the surfer is on a surfboard in a wave END END END END END END END END END END END END END END END END END END END and END END END END END in the water END END END END END END END END END END END END\n",
            "a man being tricycle into the ocean END END on a kayak END END END END on END END END END END END END END END in the carrying END END END END in various overlooking a public on a wave END near water END END and orange haired\n",
            "\n",
            "\u001b[1m100/100\u001b[0m \u001b[32m━━━━━━━━━━━━━━━━━━━━\u001b[0m\u001b[37m\u001b[0m \u001b[1m23s\u001b[0m 230ms/step - loss: 2.8381 - masked_acc: 0.4191 - val_loss: 2.9891 - val_masked_acc: 0.3909\n",
            "Epoch 30/100\n",
            "\u001b[1m 99/100\u001b[0m \u001b[32m━━━━━━━━━━━━━━━━━━━\u001b[0m\u001b[37m━\u001b[0m \u001b[1m0s\u001b[0m 33ms/step - loss: 2.7728 - masked_acc: 0.4298\n",
            "\n",
            "a surfer in a red wetsuit is in the water END END END END END END END END END END END END END END END END END END END END END END END END END END END END END END END END END END END END END END END\n",
            "a surfer is in a wetsuit is in the water END END END END in the ocean END END END END END END END END END END END END END END END END END END END END END END END END END END END END END END END END\n",
            "a as his surfboard passes by the surfer flies through water END END END END s END END END END END END END END END END END END END END END END END END in shirt END END for a surfer with riding in man in blue its white\n",
            "\n",
            "\u001b[1m100/100\u001b[0m \u001b[32m━━━━━━━━━━━━━━━━━━━━\u001b[0m\u001b[37m\u001b[0m \u001b[1m16s\u001b[0m 163ms/step - loss: 2.7732 - masked_acc: 0.4298 - val_loss: 3.0513 - val_masked_acc: 0.3945\n",
            "Epoch 31/100\n",
            "\u001b[1m 99/100\u001b[0m \u001b[32m━━━━━━━━━━━━━━━━━━━\u001b[0m\u001b[37m━\u001b[0m \u001b[1m0s\u001b[0m 38ms/step - loss: 2.7605 - masked_acc: 0.4384\n",
            "\n",
            "a man in a red wetsuit is surfing END in the water END END END END END END END END END END END END END END END END END END END END END END in a wave END END END END END END END END END END END END\n",
            "a surfer in a red and yellow pool and is riding a surfboard END END END END END END END END END END END END END END END END END END END END END in the water END END END END END END END END END END END END\n",
            "the surfer rides green wave END by the amusement END END END END END END behind him END END END END on END END in to floor END END END END END END END END END END END END END END END END END END END END END END\n",
            "\n",
            "\u001b[1m100/100\u001b[0m \u001b[32m━━━━━━━━━━━━━━━━━━━━\u001b[0m\u001b[37m\u001b[0m \u001b[1m20s\u001b[0m 206ms/step - loss: 2.7603 - masked_acc: 0.4383 - val_loss: 3.0702 - val_masked_acc: 0.3882\n",
            "Epoch 32/100\n",
            "\u001b[1m 99/100\u001b[0m \u001b[32m━━━━━━━━━━━━━━━━━━━\u001b[0m\u001b[37m━\u001b[0m \u001b[1m0s\u001b[0m 34ms/step - loss: 2.7724 - masked_acc: 0.4348\n",
            "\n",
            "a man in a red shirt is surfing END END END END END END END END END END END END END END END END END END END END END END END END END END END END END END END END END END END END END END END END END\n",
            "a man is in a wave END in the air END END END END END END END END END END END END END END END END END END END END END END END END into the wave END END END END END END END END END END END END\n",
            "END beach hitting his wave in the water END END END END dog END END END END END near it END END END END END END END END END END END END END END the ocean END END END END walk along a wave END END END END END\n",
            "\n",
            "\u001b[1m100/100\u001b[0m \u001b[32m━━━━━━━━━━━━━━━━━━━━\u001b[0m\u001b[37m\u001b[0m \u001b[1m20s\u001b[0m 201ms/step - loss: 2.7719 - masked_acc: 0.4348 - val_loss: 2.9572 - val_masked_acc: 0.3959\n",
            "Epoch 33/100\n",
            "\u001b[1m100/100\u001b[0m \u001b[32m━━━━━━━━━━━━━━━━━━━━\u001b[0m\u001b[37m\u001b[0m \u001b[1m0s\u001b[0m 34ms/step - loss: 2.7613 - masked_acc: 0.4259\n",
            "\n",
            "a surfer in a red wetsuit is riding a wave END END END END END END END END END END END END END END END END END END END END END END END END END END END END END END END END END END END END END END END\n",
            "a surfer in a green wave END on a wave END END END END END END END END END END END END END END END END END END END END END END END END in the wave END END END END with a wave END END END END END\n",
            "the surfer is is near the wave END on a wave END END END END END END END END END END END field END END END END END girl END END END END END over water END END END END END END END to catch up on bird END\n",
            "\n",
            "\u001b[1m100/100\u001b[0m \u001b[32m━━━━━━━━━━━━━━━━━━━━\u001b[0m\u001b[37m\u001b[0m \u001b[1m20s\u001b[0m 204ms/step - loss: 2.7613 - masked_acc: 0.4259 - val_loss: 3.0343 - val_masked_acc: 0.3885\n",
            "Epoch 34/100\n",
            "\u001b[1m100/100\u001b[0m \u001b[32m━━━━━━━━━━━━━━━━━━━━\u001b[0m\u001b[37m\u001b[0m \u001b[1m0s\u001b[0m 35ms/step - loss: 2.7558 - masked_acc: 0.4311\n",
            "\n",
            "a surfer rides a wave END END END END END END END END END END END END END END END END END END END END END END END END END END END END END END END END END END END END END END END END END END END END\n",
            "a surfer rides a wave END in the water END END END END END END END END END END END END END END END END END END END END END END END END END to END END END END END END END END END END END END END END\n",
            "a skier wave in the orange suit reaches over a greyhound END END END in the ocean END END END END END END and one of the ocean END END END END END END water END END END END END END with a white surfboard END END underwater END\n",
            "\n",
            "\u001b[1m100/100\u001b[0m \u001b[32m━━━━━━━━━━━━━━━━━━━━\u001b[0m\u001b[37m\u001b[0m \u001b[1m15s\u001b[0m 150ms/step - loss: 2.7558 - masked_acc: 0.4311 - val_loss: 2.9552 - val_masked_acc: 0.3879\n",
            "Epoch 35/100\n",
            "\u001b[1m100/100\u001b[0m \u001b[32m━━━━━━━━━━━━━━━━━━━━\u001b[0m\u001b[37m\u001b[0m \u001b[1m0s\u001b[0m 34ms/step - loss: 2.7535 - masked_acc: 0.4319\n",
            "\n",
            "a surfer rides a wave END END END END END END END END END END END END END END END END END END END END END END END END END END END END END END END END END END END END END END END END END END END END\n",
            "a surfer rides a wave END END in the ocean END END END END END END END END END END END END END END END END END END END END END END END END END END END END END END END END END END END END END END END\n",
            "the man on his paddles the wave END END END END END in a rope END END END END END END one in the shore END END END END END END END END END shaking out END END while spectators surfing a wave END END END brown trunks wearing\n",
            "\n",
            "\u001b[1m100/100\u001b[0m \u001b[32m━━━━━━━━━━━━━━━━━━━━\u001b[0m\u001b[37m\u001b[0m \u001b[1m15s\u001b[0m 149ms/step - loss: 2.7536 - masked_acc: 0.4319 - val_loss: 2.9457 - val_masked_acc: 0.3946\n",
            "Epoch 36/100\n",
            "\u001b[1m100/100\u001b[0m \u001b[32m━━━━━━━━━━━━━━━━━━━━\u001b[0m\u001b[37m\u001b[0m \u001b[1m0s\u001b[0m 34ms/step - loss: 2.7127 - masked_acc: 0.4347\n",
            "\n",
            "a surfer rides a wave END END END END END END END END END END END END END END END END END END END END END END END END END END END END END END END END END END END END END END END END END END END END\n",
            "surfer in a wave with his face in the ocean END END END END END END END END END END END END END END END END END END END END END END END END END END END in the ocean END END END END END END END END END\n",
            "a surfer on beach raft wear flowered and surfer and blue raft through joy of ocean END END END END END END END END END END END END END END END END on her helmet END END END underwater END sticks fight END END END END END out END\n",
            "\n",
            "\u001b[1m100/100\u001b[0m \u001b[32m━━━━━━━━━━━━━━━━━━━━\u001b[0m\u001b[37m\u001b[0m \u001b[1m21s\u001b[0m 207ms/step - loss: 2.7127 - masked_acc: 0.4347 - val_loss: 2.9647 - val_masked_acc: 0.4003\n",
            "Epoch 37/100\n",
            "\u001b[1m 99/100\u001b[0m \u001b[32m━━━━━━━━━━━━━━━━━━━\u001b[0m\u001b[37m━\u001b[0m \u001b[1m0s\u001b[0m 34ms/step - loss: 2.7637 - masked_acc: 0.4224\n",
            "\n",
            "a surfer is riding a wave END END END END END END END END END END END END END END END END END END END END END END END END END END END END END END END END END END END END END END END END END END END\n",
            "a person is surfing in the ocean END END END END END END END END END END END END END END END END END END END END END END END END END END END in the ocean END END END END END END END END END END END END\n",
            "boy markings on a wave END END underwater END END to waves END END END END END END END END in its mouth for END END END END of after the water END END END END END END END or ball END END at night END END off END\n",
            "\n",
            "\u001b[1m100/100\u001b[0m \u001b[32m━━━━━━━━━━━━━━━━━━━━\u001b[0m\u001b[37m\u001b[0m \u001b[1m15s\u001b[0m 148ms/step - loss: 2.7627 - masked_acc: 0.4226 - val_loss: 3.0001 - val_masked_acc: 0.3894\n",
            "Epoch 38/100\n",
            "\u001b[1m 99/100\u001b[0m \u001b[32m━━━━━━━━━━━━━━━━━━━\u001b[0m\u001b[37m━\u001b[0m \u001b[1m0s\u001b[0m 34ms/step - loss: 2.7321 - masked_acc: 0.4313\n",
            "\n",
            "a surfer in a red wetsuit is surfing END END END END END END END END END END END END END END END END END END END END END END END END END END END END END END END END END END END END END END END END END\n",
            "a wave in the air END END END in the ocean END END END END END END END END END END END END END END END END END END END END END END END END END END END END END END END END END END END END END END\n",
            "a man falls out water near the have his head a air END END END END in him END END END END END END ahead END END END END in the sun END END glove END END END END END END after END END END END END END and\n",
            "\n",
            "\u001b[1m100/100\u001b[0m \u001b[32m━━━━━━━━━━━━━━━━━━━━\u001b[0m\u001b[37m\u001b[0m \u001b[1m21s\u001b[0m 208ms/step - loss: 2.7312 - masked_acc: 0.4314 - val_loss: 2.9462 - val_masked_acc: 0.3999\n",
            "Epoch 39/100\n",
            "\u001b[1m 99/100\u001b[0m \u001b[32m━━━━━━━━━━━━━━━━━━━\u001b[0m\u001b[37m━\u001b[0m \u001b[1m0s\u001b[0m 34ms/step - loss: 2.6161 - masked_acc: 0.4463\n",
            "\n",
            "a man in a white wetsuit is surfing END END END END END END END END END END END END END END END END END END END END END END END END END END END END END END END END END END END END END END END END END\n",
            "a person in a yellow shirt is flying through a wave END END END END END END END END END END END END END END END END END END END END END END END in a wave END END END END END END END END END END END END\n",
            "a surfer rides a slip board in the wave END END END END END END END END END END END END END END END END END with others END three houses END END END END END END END END END END END END END END END END it END\n",
            "\n",
            "\u001b[1m100/100\u001b[0m \u001b[32m━━━━━━━━━━━━━━━━━━━━\u001b[0m\u001b[37m\u001b[0m \u001b[1m15s\u001b[0m 149ms/step - loss: 2.6160 - masked_acc: 0.4463 - val_loss: 2.9171 - val_masked_acc: 0.4031\n",
            "Epoch 40/100\n",
            "\u001b[1m100/100\u001b[0m \u001b[32m━━━━━━━━━━━━━━━━━━━━\u001b[0m\u001b[37m\u001b[0m \u001b[1m0s\u001b[0m 34ms/step - loss: 2.5929 - masked_acc: 0.4512\n",
            "\n",
            "a surfer in a red and white wetsuit is surfing END END END END END END END END END END END END END END END END END END END END END END END END END END END END END END END END END END END END END END END\n",
            "a surfer rides on a surfboard END END END END END END END END END END END END END END END END END END END END END END END END END END END END END END END END END END END END END END END END END END END\n",
            "putting one man is going down a water sky with his leg whilst on to the heads END END in the ocean holding on above END END END END END END END END END spraying END END turned in her surfboard END END and tries to a wave END\n",
            "\n",
            "\u001b[1m100/100\u001b[0m \u001b[32m━━━━━━━━━━━━━━━━━━━━\u001b[0m\u001b[37m\u001b[0m \u001b[1m20s\u001b[0m 206ms/step - loss: 2.5928 - masked_acc: 0.4512 - val_loss: 2.9551 - val_masked_acc: 0.3898\n",
            "Epoch 41/100\n",
            "\u001b[1m100/100\u001b[0m \u001b[32m━━━━━━━━━━━━━━━━━━━━\u001b[0m\u001b[37m\u001b[0m \u001b[1m0s\u001b[0m 34ms/step - loss: 2.6003 - masked_acc: 0.4474\n",
            "\n",
            "a man in a red wetsuit is surfing END END END END END END END END END END END END END END END END END END END END END END END END END END END END END END END END END END END END END END END END END\n",
            "surfer riding a wave END END into a wave END END END END END END END END END END END END END END END END END END END END END END END END END in the wave END END END END END END END END END END END END\n",
            "the boat watches ready to ball milk END END END END END END through off his rapids END END in the sprinklers END END END END over END END END END END END END END END END END and wide END END END END END END END END END\n",
            "\n",
            "\u001b[1m100/100\u001b[0m \u001b[32m━━━━━━━━━━━━━━━━━━━━\u001b[0m\u001b[37m\u001b[0m \u001b[1m20s\u001b[0m 205ms/step - loss: 2.6002 - masked_acc: 0.4474 - val_loss: 2.8726 - val_masked_acc: 0.4014\n",
            "Epoch 42/100\n",
            "\u001b[1m 99/100\u001b[0m \u001b[32m━━━━━━━━━━━━━━━━━━━\u001b[0m\u001b[37m━\u001b[0m \u001b[1m0s\u001b[0m 40ms/step - loss: 2.6267 - masked_acc: 0.4459\n",
            "\n",
            "a man in a wetsuit is surfing END in the ocean END END END END END END END END END END END END END END END END END END END END END END END in a wave END END END END END END END END END END END END\n",
            "a surfer on a wave END END END END END END END END END END END END END END END END END END END END END END END END END END END END END in the wave END END END END END END END END END END END END\n",
            "in a man under a wave END line from down the water END END END END END END END END and on END in his board END END END over her volleyball END END in a wave END END END END and wave END and is window END END\n",
            "\n",
            "\u001b[1m100/100\u001b[0m \u001b[32m━━━━━━━━━━━━━━━━━━━━\u001b[0m\u001b[37m\u001b[0m \u001b[1m15s\u001b[0m 154ms/step - loss: 2.6259 - masked_acc: 0.4460 - val_loss: 2.9041 - val_masked_acc: 0.3951\n",
            "Epoch 43/100\n",
            "\u001b[1m100/100\u001b[0m \u001b[32m━━━━━━━━━━━━━━━━━━━━\u001b[0m\u001b[37m\u001b[0m \u001b[1m0s\u001b[0m 34ms/step - loss: 2.5929 - masked_acc: 0.4467\n",
            "\n",
            "a man in a red and white surfboard is surfing END END END END END END END END END END END END END END END END END END END END END END END END in the water END END END END END END END END END END END END\n",
            "a man with a helmet is in a blue wave END END END in the water END END END END END END END END END END END END END END END END END END out END END END END END END END END END END END END END END\n",
            "a wave jumps on from on a wave END in sunny is END the ocean END END END END in the wave END END END END END beside END END END END END END grass END END END END END END with his snow END END END END END\n",
            "\n",
            "\u001b[1m100/100\u001b[0m \u001b[32m━━━━━━━━━━━━━━━━━━━━\u001b[0m\u001b[37m\u001b[0m \u001b[1m20s\u001b[0m 206ms/step - loss: 2.5927 - masked_acc: 0.4467 - val_loss: 2.9061 - val_masked_acc: 0.3915\n",
            "Epoch 44/100\n",
            "\u001b[1m 99/100\u001b[0m \u001b[32m━━━━━━━━━━━━━━━━━━━\u001b[0m\u001b[37m━\u001b[0m \u001b[1m0s\u001b[0m 40ms/step - loss: 2.5584 - masked_acc: 0.4531\n",
            "\n",
            "a surfer rides a wave END END END END END END END END END END END END END END END END END END END END END END END END END END END END END END END END END END END END END END END END END END END END\n",
            "a person in a red shirt is surfing END in the water END END END END END END END END END END END END END END END END END END END END END END in the wave END END END END END END END in the ocean END END\n",
            "a person riding a wave on a wave END in their white riding on down END in the water END END END him END END END END END END END END END END END END END END END in the ocean END END parking END in the water END\n",
            "\n",
            "\u001b[1m100/100\u001b[0m \u001b[32m━━━━━━━━━━━━━━━━━━━━\u001b[0m\u001b[37m\u001b[0m \u001b[1m21s\u001b[0m 207ms/step - loss: 2.5583 - masked_acc: 0.4531 - val_loss: 2.9487 - val_masked_acc: 0.3982\n",
            "Epoch 45/100\n",
            "\u001b[1m 99/100\u001b[0m \u001b[32m━━━━━━━━━━━━━━━━━━━\u001b[0m\u001b[37m━\u001b[0m \u001b[1m0s\u001b[0m 35ms/step - loss: 2.5526 - masked_acc: 0.4518\n",
            "\n",
            "a man in a red wetsuit is surfing END END END END END END END END END END END END END END END END END END END END END END END END END END in a wave END END END END END END END END END END END END\n",
            "a surfer in a red shirt surfing END END END END END END END END END END END END END END END END END END END END END END END END END END END and END END END END END END END END END END END END END END\n",
            "a surfer surfing on a surfboard END END END that has in the background END of something END END END END END on END END END END END END END END END END END in a huge his board END END END END END END END and yellow surfboard\n",
            "\n",
            "\u001b[1m100/100\u001b[0m \u001b[32m━━━━━━━━━━━━━━━━━━━━\u001b[0m\u001b[37m\u001b[0m \u001b[1m15s\u001b[0m 149ms/step - loss: 2.5522 - masked_acc: 0.4519 - val_loss: 2.8785 - val_masked_acc: 0.3961\n",
            "Epoch 46/100\n",
            "\u001b[1m100/100\u001b[0m \u001b[32m━━━━━━━━━━━━━━━━━━━━\u001b[0m\u001b[37m\u001b[0m \u001b[1m0s\u001b[0m 39ms/step - loss: 2.5856 - masked_acc: 0.4418\n",
            "\n",
            "a surfer in a red wetsuit is surfing END END END END END END END END END END END END END END END END END END END END END END END END END END END END END END END END END END END END END END END END END\n",
            "a person in a wetsuit is surfing END END END END END END END END END END END END END END END END END END END END END END END END END END END END END in the wave END END END END END END END END END END\n",
            "a surfer is surfing END a wave on the rides it END END END END END in the wave END END END END END END END END END END END END END END END is the ocean END END END END END with his tongue on as she END\n",
            "\n",
            "\u001b[1m100/100\u001b[0m \u001b[32m━━━━━━━━━━━━━━━━━━━━\u001b[0m\u001b[37m\u001b[0m \u001b[1m21s\u001b[0m 209ms/step - loss: 2.5852 - masked_acc: 0.4419 - val_loss: 2.8819 - val_masked_acc: 0.3992\n"
          ]
        }
      ]
    },
    {
      "cell_type": "markdown",
      "source": [
        "훈련 실행 동안의 손실 및 정확성 플롯:"
      ],
      "metadata": {
        "id": "eGgx1SeVfXjD"
      }
    },
    {
      "cell_type": "code",
      "source": [
        "plt.plot(history.history['loss'], label='loss')\n",
        "plt.plot(history.history['val_loss'], label='val_loss')\n",
        "plt.ylim([0, max(plt.ylim())])\n",
        "plt.xlabel('Epoch #')\n",
        "plt.ylabel('CE/token')\n",
        "plt.legend()"
      ],
      "metadata": {
        "id": "yihUy3IDfaQd",
        "outputId": "13269209-ca2b-4903-bc7e-d83e86ebdc80",
        "colab": {
          "base_uri": "https://localhost:8080/",
          "height": 471
        }
      },
      "execution_count": 134,
      "outputs": [
        {
          "output_type": "execute_result",
          "data": {
            "text/plain": [
              "<matplotlib.legend.Legend at 0x7cfca8197410>"
            ]
          },
          "metadata": {},
          "execution_count": 134
        },
        {
          "output_type": "display_data",
          "data": {
            "text/plain": [
              "<Figure size 640x480 with 1 Axes>"
            ],
            "image/png": "[encoded data removed]"
          },
          "metadata": {}
        }
      ]
    },
    {
      "cell_type": "code",
      "source": [
        "plt.plot(history.history['masked_acc'], label='accuracy')\n",
        "plt.plot(history.history['val_masked_acc'], label='val_accuracy')\n",
        "plt.ylim([0, max(plt.ylim())])\n",
        "plt.xlabel('Epoch #')\n",
        "plt.ylabel('CE/token')\n",
        "plt.legend()"
      ],
      "metadata": {
        "id": "NO9vpGSifs7x",
        "outputId": "a45fb93d-bfdd-4ae4-c402-17efc20c3f28",
        "colab": {
          "base_uri": "https://localhost:8080/",
          "height": 466
        }
      },
      "execution_count": 135,
      "outputs": [
        {
          "output_type": "execute_result",
          "data": {
            "text/plain": [
              "<matplotlib.legend.Legend at 0x7cfc61f40310>"
            ]
          },
          "metadata": {},
          "execution_count": 135
        },
        {
          "output_type": "display_data",
          "data": {
            "text/plain": [
              "<Figure size 640x480 with 1 Axes>"
            ],
            "image/png": "[encoded data removed]"
          },
          "metadata": {}
        }
      ]
    },
    {
      "cell_type": "markdown",
      "source": [
        "#  어텐션 플롯"
      ],
      "metadata": {
        "id": "89zBXxLVfzif"
      }
    },
    {
      "cell_type": "markdown",
      "source": [
        "훈련된 모델을 사용하여 이미지에서 해당 `simple_gen`메서드 실행"
      ],
      "metadata": {
        "id": "qj4tw1LBf2rO"
      }
    },
    {
      "cell_type": "code",
      "source": [
        "result = model.simple_gen(image, temperature=0.0)\n",
        "result"
      ],
      "metadata": {
        "id": "oITrHbaJf52z",
        "outputId": "48bde73a-f178-47b5-9b71-414b206f18e5",
        "colab": {
          "base_uri": "https://localhost:8080/",
          "height": 107
        }
      },
      "execution_count": 137,
      "outputs": [
        {
          "output_type": "stream",
          "name": "stderr",
          "text": [
            "/usr/local/lib/python3.11/dist-packages/keras/src/ops/nn.py:907: UserWarning: You are using a softmax over axis 3 of a tensor of shape (1, 2, 1, 1). This axis has size 1. The softmax operation will always return the value 1, which is likely not what you intended. Did you mean to use a sigmoid instead?\n",
            "  warnings.warn(\n"
          ]
        },
        {
          "output_type": "execute_result",
          "data": {
            "text/plain": [
              "'a man in a red wetsuit is surfing END END END END END END END END END END END END END END END END END END END END END END END END END END END END END END END END END END END END END END END END END'"
            ],
            "application/vnd.google.colaboratory.intrinsic+json": {
              "type": "string"
            }
          },
          "metadata": {},
          "execution_count": 137
        }
      ]
    },
    {
      "cell_type": "markdown",
      "source": [
        "출력을 토큰으로 다시 분할"
      ],
      "metadata": {
        "id": "HgPn0vKof9Yx"
      }
    },
    {
      "cell_type": "code",
      "source": [
        "str_tokens = result.split()\n",
        "str_tokens.append('[END]')"
      ],
      "metadata": {
        "id": "_hQEh22zf_w7"
      },
      "execution_count": 138,
      "outputs": []
    },
    {
      "cell_type": "markdown",
      "source": [
        "각 `DecoderLayers`는 `CrossAttention`레이어에 대한 어텐션 스코어를 캐싱\n",
        "각 어텐션 맵의 형태는 `(batch=1, heads, sequence, image)`"
      ],
      "metadata": {
        "id": "V_-xKRuagIxa"
      }
    },
    {
      "cell_type": "code",
      "source": [
        "attn_maps = [layer.last_attention_scores for layer in model.decoder_layers]\n",
        "[map.shape for map in attn_maps]"
      ],
      "metadata": {
        "id": "GJrw5bNhgSVF",
        "outputId": "8129b124-0f8e-4fd3-acdb-d24425ca6fec",
        "colab": {
          "base_uri": "https://localhost:8080/"
        }
      },
      "execution_count": 141,
      "outputs": [
        {
          "output_type": "execute_result",
          "data": {
            "text/plain": [
              "[TensorShape([1, 2, 50, 49]), TensorShape([1, 2, 50, 49])]"
            ]
          },
          "metadata": {},
          "execution_count": 141
        }
      ]
    },
    {
      "cell_type": "markdown",
      "source": [
        "따라서 `image`축을 `height, width`로 다시 분할하는 한편 `batch`축을 따라 맵을 스택한 다음 `(batch, heads)`축에 대해 평균을 냄"
      ],
      "metadata": {
        "id": "Ev0m-yKEgZ3f"
      }
    },
    {
      "cell_type": "code",
      "source": [
        "attention_maps = tf.concat(attn_maps, axis=0)\n",
        "attention_maps = einops.reduce(\n",
        "    attention_maps,\n",
        "    'batch heads sequence (height width) -> sequence height width',\n",
        "    height =7, width =7, #height=7 안되는데 height =7은 된다\n",
        "    reduction='mean')"
      ],
      "metadata": {
        "id": "PTbWMLyZgjzt"
      },
      "execution_count": 167,
      "outputs": []
    },
    {
      "cell_type": "markdown",
      "source": [
        "각 시퀀스 예측을 위한 단일 어텐션 맵이 하나 존재\n",
        "\n",
        "각 맵의 값은 합계가 1"
      ],
      "metadata": {
        "id": "dKDLWPekg4wy"
      }
    },
    {
      "cell_type": "code",
      "source": [
        "einops.reduce(attention_maps, 'sequence height width -> sequence', reduction='sum')"
      ],
      "metadata": {
        "id": "waI4ETYxg-Fq",
        "outputId": "0a7946b3-2aaa-47dd-fd81-ec69410d4db1",
        "colab": {
          "base_uri": "https://localhost:8080/"
        }
      },
      "execution_count": 168,
      "outputs": [
        {
          "output_type": "execute_result",
          "data": {
            "text/plain": [
              "<tf.Tensor: shape=(50,), dtype=float32, numpy=\n",
              "array([1.        , 1.        , 1.        , 1.        , 1.        ,\n",
              "       0.99999994, 1.        , 1.        , 1.        , 1.        ,\n",
              "       1.        , 1.        , 1.        , 0.9999999 , 1.        ,\n",
              "       1.        , 1.        , 0.99999994, 1.        , 1.        ,\n",
              "       0.99999994, 1.        , 1.        , 1.        , 1.        ,\n",
              "       1.        , 1.        , 0.99999994, 1.        , 1.        ,\n",
              "       1.        , 1.        , 1.        , 1.        , 1.        ,\n",
              "       1.        , 1.        , 1.        , 1.        , 1.        ,\n",
              "       1.        , 1.        , 1.        , 1.        , 1.        ,\n",
              "       1.        , 1.        , 0.9999999 , 1.        , 1.        ],\n",
              "      dtype=float32)>"
            ]
          },
          "metadata": {},
          "execution_count": 168
        }
      ]
    },
    {
      "cell_type": "markdown",
      "source": [
        "따라서 다음은 출력에 대한 각 토큰을 생성하는 동안 모델이 어텐션에 주목"
      ],
      "metadata": {
        "id": "sdHYAxhWhHGj"
      }
    },
    {
      "cell_type": "code",
      "source": [
        "def plot_attention_maps(image, str_tokens, attention_map):\n",
        "    fig = plt.figure(figsize=(16, 9))\n",
        "\n",
        "    len_result = len(str_tokens)\n",
        "\n",
        "    titles = []\n",
        "    for i in range(len_result):\n",
        "      map = attention_map[i]\n",
        "      #print(f'map: {map.shape}')\n",
        "      grid_size = max(int(np.ceil(len_result/2)), 2)\n",
        "      #grid_size = int(np.ceil(len_result / 2))  # max() 없이 테스트\n",
        "      ax = fig.add_subplot(3, grid_size, i+1)\n",
        "      titles.append(ax.set_title(str_tokens[i]))\n",
        "      img = ax.imshow(image)\n",
        "      ax.imshow(map, cmap='gray', alpha=0.6, #extent=img.get_extent(),\n",
        "                clim=[0.0, np.max(map)])\n",
        "\n",
        "    plt.tight_layout()\n",
        "    #plt.subplots_adjust(hspace=0.5, wspace=0.5)"
      ],
      "metadata": {
        "id": "xDELMpFqhK1i"
      },
      "execution_count": 187,
      "outputs": []
    },
    {
      "cell_type": "code",
      "source": [
        "plot_attention_maps(image/255, str_tokens, attention_maps)"
      ],
      "metadata": {
        "id": "3f0DU9K2h4WC",
        "outputId": "68c5732e-3005-49f1-8baa-bb821b4f7991",
        "colab": {
          "base_uri": "https://localhost:8080/",
          "height": 264
        }
      },
      "execution_count": 188,
      "outputs": [
        {
          "output_type": "display_data",
          "data": {
            "text/plain": [
              "<Figure size 1600x900 with 50 Axes>"
            ],
            "image/png": "[encoded data removed]"
          },
          "metadata": {}
        }
      ]
    },
    {
      "cell_type": "markdown",
      "source": [
        "더 유용한 함수로 함께 통합"
      ],
      "metadata": {
        "id": "QigPIc7Ah-9v"
      }
    },
    {
      "cell_type": "code",
      "source": [
        "@Captioner.add_method\n",
        "def run_and_show_attention(self, image, temperature=0.0):\n",
        "  result_txt = self.simple_gen(image, temperature)\n",
        "  str_tokens = result_txt.split()\n",
        "  str_tokens.append('[END]')\n",
        "\n",
        "  attention_maps = [layer.last_attention_scores for layer in self.decoder_layers]\n",
        "  attention_maps = tf.concat(attention_maps, axis=0)\n",
        "  attention_maps = einops.reduce(\n",
        "      attention_maps,\n",
        "      'batch heads sequence (height width) -> sequence height width',\n",
        "      height =7, width =7,\n",
        "      reduction='mean')\n",
        "\n",
        "  plot_attention_maps(image/255, str_tokens, attention_maps)\n",
        "  t = plt.suptitle(result_txt)\n",
        "  t.set_y(1.05)"
      ],
      "metadata": {
        "id": "TTNGLWHiiBlD"
      },
      "execution_count": 171,
      "outputs": []
    },
    {
      "cell_type": "code",
      "source": [
        "run_and_show_attention(model, image)"
      ],
      "metadata": {
        "id": "met51s9SiIAw",
        "outputId": "3fceec66-b72f-4138-d8ce-f98477cc931a",
        "colab": {
          "base_uri": "https://localhost:8080/",
          "height": 309
        }
      },
      "execution_count": 172,
      "outputs": [
        {
          "output_type": "display_data",
          "data": {
            "text/plain": [
              "<Figure size 1600x900 with 50 Axes>"
            ],
            "image/png": "[encoded data removed]"
          },
          "metadata": {}
        }
      ]
    },
    {
      "cell_type": "markdown",
      "source": [
        "## 자체 이미지로 시도해보기\n",
        "\n",
        "재미를 위해 방금 훈련한 모델로 자체 이미지를 캡션하는 데 사용할 수 있는 방법을 제공했습니다. 상대적으로 적은 양의 데이터로 훈련되었으므로 이미지가 훈련 데이터와 다를 수 있습니다(결과가 이상할 수 있습니다!).\n"
      ],
      "metadata": {
        "id": "uR5bddVSi5VD"
      }
    },
    {
      "cell_type": "code",
      "source": [
        "image_url = 'https://tensorflow.org/images/bedroom_hrnet_tutorial.jpg'\n",
        "image_path = tf.keras.utils.get_file(origin=image_url)\n",
        "image = load_image(image_path)\n",
        "\n",
        "run_and_show_attention(model, image)"
      ],
      "metadata": {
        "id": "CaKBt7YHjEAN",
        "outputId": "18100e8a-42d8-4c17-a697-81d93cbc9e29",
        "colab": {
          "base_uri": "https://localhost:8080/",
          "height": 625
        }
      },
      "execution_count": 189,
      "outputs": [
        {
          "output_type": "stream",
          "name": "stderr",
          "text": [
            "/usr/local/lib/python3.11/dist-packages/keras/src/ops/nn.py:907: UserWarning: You are using a softmax over axis 3 of a tensor of shape (1, 2, 1, 1). This axis has size 1. The softmax operation will always return the value 1, which is likely not what you intended. Did you mean to use a sigmoid instead?\n",
            "  warnings.warn(\n"
          ]
        },
        {
          "output_type": "display_data",
          "data": {
            "text/plain": [
              "<Figure size 1600x900 with 50 Axes>"
            ],
            "image/png": "[encoded data removed]"
          },
          "metadata": {}
        }
      ]
    }
  ]
}